{
 "cells": [
  {
   "cell_type": "markdown",
   "metadata": {},
   "source": [
    "# LeetCode"
   ]
  },
  {
   "cell_type": "code",
   "execution_count": 3,
   "metadata": {},
   "outputs": [
    {
     "name": "stdout",
     "output_type": "stream",
     "text": [
      "Hello\n"
     ]
    },
    {
     "data": {
      "text/html": [
       "\n",
       "<style>\n",
       "    div.example {\n",
       "        display: block;\n",
       "        padding: 9.5px;\n",
       "        margin: 0 0 10px;\n",
       "        white-space: pre;\n",
       "        background-color: #ffffe0;\n",
       "        border: 1px solid #ccc;\n",
       "        border-radius: 4px;\n",
       "    }\n",
       "\n",
       "    code {\n",
       "        color: #c7254e !important;\n",
       "        background-color: #f9f2f4 !important;\n",
       "    }\n",
       "\n",
       "    div.example code {\n",
       "        background-color: #ffffe0 !important;\n",
       "    }\n",
       "\n",
       "    hr {\n",
       "        border-top: 2px solid #000;\n",
       "    }\n",
       "</style>\n",
       "\n",
       "\n",
       "        <script>\n",
       "            function code_toggle_1663955314463623917() {\n",
       "                $('div.cell.code_cell.rendered.selected').find('div.input').toggle();\n",
       "                $('div.cell.code_cell.rendered.selected').find('div.output_subarea').first().toggle();\n",
       "            }\n",
       "            \n",
       "        </script>\n",
       "        <form action=\"javascript:code_toggle_1663955314463623917()\"><input type=\"submit\" value=\"Toggle JS & CSS\"></form>\n",
       "    "
      ],
      "text/plain": [
       "<IPython.core.display.HTML object>"
      ]
     },
     "execution_count": 3,
     "metadata": {},
     "output_type": "execute_result"
    }
   ],
   "source": [
    "from IPython.display import HTML\n",
    "import random\n",
    "from __future__ import print_function\n",
    "xrange = range\n",
    "\n",
    "css = \"\"\"\n",
    "<style>\n",
    "    div.example {\n",
    "        display: block;\n",
    "        padding: 9.5px;\n",
    "        margin: 0 0 10px;\n",
    "        white-space: pre;\n",
    "        background-color: #ffffe0;\n",
    "        border: 1px solid #ccc;\n",
    "        border-radius: 4px;\n",
    "    }\n",
    "\n",
    "    code {\n",
    "        color: #c7254e !important;\n",
    "        background-color: #f9f2f4 !important;\n",
    "    }\n",
    "\n",
    "    div.example code {\n",
    "        background-color: #ffffe0 !important;\n",
    "    }\n",
    "\n",
    "    hr {\n",
    "        border-top: 2px solid #000;\n",
    "    }\n",
    "</style>\n",
    "\n",
    "\"\"\"\n",
    "\n",
    "def hide_toggle(display_text, for_next=False):\n",
    "    this_cell = \"\"\"$('div.cell.code_cell.rendered.selected')\"\"\"\n",
    "    next_cell = this_cell + '.next()'\n",
    "    toggle_text = 'Toggle show/hide'  # text shown on toggle link\n",
    "    target_cell = this_cell  # target cell to control with toggle\n",
    "    js_hide_current = ''  # bit of JS to permanently hide code in current cell (only when toggling next cell)\n",
    "    if for_next:\n",
    "        target_cell = next_cell\n",
    "        toggle_text += ' next cell'\n",
    "        js_hide_current = this_cell + '.find(\"div.input\").hide();'\n",
    "    js_f_name = f'code_toggle_{random.randint(1,2**64)}'\n",
    "    html = css + \"\"\"\n",
    "        <script>\n",
    "            function {f_name}() {{\n",
    "                {cell_selector}.find('div.input').toggle();\n",
    "                var outputSubareas = {cell_selector}.find('div.output_subarea');\n",
    "                if (outputSubareas.length > 1) {{\n",
    "                    outputSubareas.first().toggle()\n",
    "                }}\n",
    "            }}\n",
    "            {js_hide_current}\n",
    "        </script>\n",
    "        <form action=\"javascript:{f_name}()\"><input type=\"submit\" value=\"{display_text}\"></form>\n",
    "    \"\"\".format(\n",
    "        f_name=js_f_name,\n",
    "        cell_selector=target_cell,\n",
    "        js_hide_current=js_hide_current, \n",
    "        toggle_text=toggle_text,\n",
    "        display_text=display_text\n",
    "    )\n",
    "    return HTML(html)\n",
    "\n",
    "hide_toggle('Toggle JS & CSS')"
   ]
  },
  {
   "cell_type": "code",
   "execution_count": 4,
   "metadata": {},
   "outputs": [
    {
     "data": {
      "text/html": [
       "\n",
       "<script>\n",
       "    document.querySelectorAll('input').forEach(function(button) {\n",
       "        button.click();\n",
       "    });\n",
       "</script>\n"
      ],
      "text/plain": [
       "<IPython.core.display.HTML object>"
      ]
     },
     "execution_count": 4,
     "metadata": {},
     "output_type": "execute_result"
    }
   ],
   "source": [
    "HTML('''\n",
    "<script>\n",
    "    document.querySelectorAll('input').forEach(function(button) {\n",
    "        button.click();\n",
    "    });\n",
    "</script>\n",
    "''')"
   ]
  }
 ],
 "metadata": {
  "kernelspec": {
   "display_name": "Python [conda env:machine-learning]",
   "language": "python",
   "name": "conda-env-machine-learning-py"
  },
  "language_info": {
   "codemirror_mode": {
    "name": "ipython",
    "version": 3
   },
   "file_extension": ".py",
   "mimetype": "text/x-python",
   "name": "python",
   "nbconvert_exporter": "python",
   "pygments_lexer": "ipython3",
   "version": "3.6.6"
  }
 },
 "nbformat": 4,
 "nbformat_minor": 2
}
