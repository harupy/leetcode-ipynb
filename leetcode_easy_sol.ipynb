{
 "cells": [
  {
   "cell_type": "markdown",
   "metadata": {},
   "source": [
    "# LeetCode"
   ]
  },
  {
   "cell_type": "code",
   "execution_count": 175,
   "metadata": {},
   "outputs": [
    {
     "data": {
      "text/html": [
       "\n",
       "<style>\n",
       "    div.example {\n",
       "        display: block;\n",
       "        padding: 9.5px;\n",
       "        margin: 0 0 10px;\n",
       "        white-space: pre;\n",
       "        background-color: #ffffe0;\n",
       "        border: 1px solid #ccc;\n",
       "        border-radius: 4px;\n",
       "    }\n",
       "\n",
       "    code {\n",
       "        color: #c7254e !important;\n",
       "        background-color: #f9f2f4 !important;\n",
       "    }\n",
       "\n",
       "    div.example code {\n",
       "        background-color: #ffffe0 !important;\n",
       "    }\n",
       "\n",
       "    hr {\n",
       "        border-top: 2px solid #000;\n",
       "    }\n",
       "</style>\n",
       "\n",
       "\n",
       "        <script>\n",
       "            function code_toggle_4486907905506216796() {\n",
       "                $('div.cell.code_cell.rendered.selected').find('div.input').toggle();\n",
       "                var outputSubareas = $('div.cell.code_cell.rendered.selected').find('div.output_subarea');\n",
       "                if (outputSubareas.length > 1) {\n",
       "                    outputSubareas.first().toggle()\n",
       "                }\n",
       "            }\n",
       "            \n",
       "        </script>\n",
       "        <form action=\"javascript:code_toggle_4486907905506216796()\"><input type=\"submit\" value=\"Toggle JS & CSS\"></form>\n",
       "    "
      ],
      "text/plain": [
       "<IPython.core.display.HTML object>"
      ]
     },
     "execution_count": 175,
     "metadata": {},
     "output_type": "execute_result"
    }
   ],
   "source": [
    "from IPython.display import HTML\n",
    "import random\n",
    "from __future__ import print_function\n",
    "xrange = range\n",
    "\n",
    "css = \"\"\"\n",
    "<style>\n",
    "    div.example {\n",
    "        display: block;\n",
    "        padding: 9.5px;\n",
    "        margin: 0 0 10px;\n",
    "        white-space: pre;\n",
    "        background-color: #ffffe0;\n",
    "        border: 1px solid #ccc;\n",
    "        border-radius: 4px;\n",
    "    }\n",
    "\n",
    "    code {\n",
    "        color: #c7254e !important;\n",
    "        background-color: #f9f2f4 !important;\n",
    "    }\n",
    "\n",
    "    div.example code {\n",
    "        background-color: #ffffe0 !important;\n",
    "    }\n",
    "\n",
    "    hr {\n",
    "        border-top: 2px solid #000;\n",
    "    }\n",
    "</style>\n",
    "\n",
    "\"\"\"\n",
    "\n",
    "def hide_toggle(display_text, for_next=False):\n",
    "    this_cell = \"\"\"$('div.cell.code_cell.rendered.selected')\"\"\"\n",
    "    next_cell = this_cell + '.next()'\n",
    "    toggle_text = 'Toggle show/hide'  # text shown on toggle link\n",
    "    target_cell = this_cell  # target cell to control with toggle\n",
    "    js_hide_current = ''  # bit of JS to permanently hide code in current cell (only when toggling next cell)\n",
    "    if for_next:\n",
    "        target_cell = next_cell\n",
    "        toggle_text += ' next cell'\n",
    "        js_hide_current = this_cell + '.find(\"div.input\").hide();'\n",
    "    js_f_name = f'code_toggle_{random.randint(1,2**64)}'\n",
    "    html = css + \"\"\"\n",
    "        <script>\n",
    "            function {f_name}() {{\n",
    "                {cell_selector}.find('div.input').toggle();\n",
    "                var outputSubareas = {cell_selector}.find('div.output_subarea');\n",
    "                if (outputSubareas.length > 1) {{\n",
    "                    outputSubareas.first().toggle()\n",
    "                }}\n",
    "            }}\n",
    "            {js_hide_current}\n",
    "        </script>\n",
    "        <form action=\"javascript:{f_name}()\"><input type=\"submit\" value=\"{display_text}\"></form>\n",
    "    \"\"\".format(\n",
    "        f_name=js_f_name,\n",
    "        cell_selector=target_cell,\n",
    "        js_hide_current=js_hide_current, \n",
    "        toggle_text=toggle_text,\n",
    "        display_text=display_text\n",
    "    )\n",
    "    return HTML(html)\n",
    "\n",
    "hide_toggle('Toggle JS & CSS')"
   ]
  },
  {
   "cell_type": "markdown",
   "metadata": {},
   "source": [
    "---\n",
    "## [1. Two Sum (Easy)](https://leetcode.com/problems/two-sum/description)\n",
    "<p>Given an array of integers, return <strong>indices</strong> of the two numbers such that they add up to a specific target.</p>\n",
    "<p>You may assume that each input would have <strong><em>exactly</em></strong> one solution, and you may not use the <em>same</em> element twice.</p>\n",
    "<p><strong>Example:</strong></p>\n",
    "<div class=\"example\">Given nums = [2, 7, 11, 15], target = 9,\n",
    "\n",
    "Because nums[<strong>0</strong>] + nums[<strong>1</strong>] = 2 + 7 = 9,\n",
    "return [<strong>0</strong>, <strong>1</strong>].</div>\n",
    "<p> </p>\n"
   ]
  },
  {
   "cell_type": "code",
   "execution_count": 176,
   "metadata": {},
   "outputs": [
    {
     "name": "stdout",
     "output_type": "stream",
     "text": [
      "[0, 1]\n",
      "[0, 1]\n"
     ]
    },
    {
     "data": {
      "text/html": [
       "\n",
       "<style>\n",
       "    div.example {\n",
       "        display: block;\n",
       "        padding: 9.5px;\n",
       "        margin: 0 0 10px;\n",
       "        white-space: pre;\n",
       "        background-color: #ffffe0;\n",
       "        border: 1px solid #ccc;\n",
       "        border-radius: 4px;\n",
       "    }\n",
       "\n",
       "    code {\n",
       "        color: #c7254e !important;\n",
       "        background-color: #f9f2f4 !important;\n",
       "    }\n",
       "\n",
       "    div.example code {\n",
       "        background-color: #ffffe0 !important;\n",
       "    }\n",
       "\n",
       "    hr {\n",
       "        border-top: 2px solid #000;\n",
       "    }\n",
       "</style>\n",
       "\n",
       "\n",
       "        <script>\n",
       "            function code_toggle_4987691337236333399() {\n",
       "                $('div.cell.code_cell.rendered.selected').find('div.input').toggle();\n",
       "                var outputSubareas = $('div.cell.code_cell.rendered.selected').find('div.output_subarea');\n",
       "                if (outputSubareas.length > 1) {\n",
       "                    outputSubareas.first().toggle()\n",
       "                }\n",
       "            }\n",
       "            \n",
       "        </script>\n",
       "        <form action=\"javascript:code_toggle_4987691337236333399()\"><input type=\"submit\" value=\"Toggle the solution\"></form>\n",
       "    "
      ],
      "text/plain": [
       "<IPython.core.display.HTML object>"
      ]
     },
     "execution_count": 176,
     "metadata": {},
     "output_type": "execute_result"
    }
   ],
   "source": [
    "# Time:  O(n)\n",
    "# Space: O(n)\n",
    "\n",
    "\n",
    "\n",
    "class Solution(object):\n",
    "    def twoSum(self, nums, target):\n",
    "        \"\"\"\n",
    "        :type nums: List[int]\n",
    "        :type target: int\n",
    "        :rtype: List[int]\n",
    "        \"\"\"\n",
    "        lookup = {}\n",
    "        for i, num in enumerate(nums):\n",
    "            if target - num in lookup:\n",
    "                return [lookup[target - num], i]\n",
    "            lookup[num] = i\n",
    "\n",
    "    def twoSum2(self, nums, target):\n",
    "        \"\"\"\n",
    "        :type nums: List[int]\n",
    "        :type target: int\n",
    "        :rtype: List[int]\n",
    "        \"\"\"\n",
    "        for i in nums:\n",
    "            j = target - i\n",
    "            tmp_nums_start_index = nums.index(i) + 1\n",
    "            tmp_nums = nums[tmp_nums_start_index:]\n",
    "            if j in tmp_nums:\n",
    "                return [nums.index(i), tmp_nums_start_index + tmp_nums.index(j)]\n",
    "\n",
    "\n",
    "if __name__ == '__main__':\n",
    "    print(Solution().twoSum((2, 7, 11, 15), 9))\n",
    "    print(Solution().twoSum2((2, 7, 11, 15), 9))\n",
    "\n",
    "\n",
    "hide_toggle(\"Toggle the solution\")"
   ]
  },
  {
   "cell_type": "code",
   "execution_count": 1,
   "metadata": {},
   "outputs": [
    {
     "name": "stdout",
     "output_type": "stream",
     "text": [
      "[0, 2]\n"
     ]
    }
   ],
   "source": [
    "# Your solution\n",
    "class Solution(object):\n",
    "    def twoSum(self, nums, target):\n",
    "        lookup = {}\n",
    "        for i, num in enumerate(nums):\n",
    "            if target - num in lookup:\n",
    "                return [lookup[target - num], i]\n",
    "            lookup[num] = i\n",
    "\n",
    "\n",
    "print(Solution().twoSum((2, 7, 8, 5), 10))"
   ]
  },
  {
   "cell_type": "markdown",
   "metadata": {},
   "source": [
    "---\n",
    "## [7. Reverse Integer (Easy)](https://leetcode.com/problems/reverse-integer/description)\n",
    "<p>Given a 32-bit signed integer, reverse digits of an integer.</p>\n",
    "<p><strong>Example 1:</strong></p>\n",
    "<div class=\"example\"><strong>Input:</strong> 123\n",
    "<strong>Output:</strong> 321</div>\n",
    "<p><strong>Example 2:</strong></p>\n",
    "<div class=\"example\"><strong>Input:</strong> -123\n",
    "<strong>Output:</strong> -321</div>\n",
    "<p><strong>Example 3:</strong></p>\n",
    "<div class=\"example\"><strong>Input:</strong> 120\n",
    "<strong>Output:</strong> 21</div>\n",
    "<p><strong>Note:</strong><br/>\n",
    "Assume we are dealing with an environment which could only store integers within the 32-bit signed integer range: [−2<sup>31</sup>,  2<sup>31 </sup>− 1]. For the purpose of this problem, assume that your function returns 0 when the reversed integer overflows.</p>\n"
   ]
  },
  {
   "cell_type": "code",
   "execution_count": 178,
   "metadata": {},
   "outputs": [
    {
     "name": "stdout",
     "output_type": "stream",
     "text": [
      "321\n",
      "-123\n"
     ]
    },
    {
     "data": {
      "text/html": [
       "\n",
       "<style>\n",
       "    div.example {\n",
       "        display: block;\n",
       "        padding: 9.5px;\n",
       "        margin: 0 0 10px;\n",
       "        white-space: pre;\n",
       "        background-color: #ffffe0;\n",
       "        border: 1px solid #ccc;\n",
       "        border-radius: 4px;\n",
       "    }\n",
       "\n",
       "    code {\n",
       "        color: #c7254e !important;\n",
       "        background-color: #f9f2f4 !important;\n",
       "    }\n",
       "\n",
       "    div.example code {\n",
       "        background-color: #ffffe0 !important;\n",
       "    }\n",
       "\n",
       "    hr {\n",
       "        border-top: 2px solid #000;\n",
       "    }\n",
       "</style>\n",
       "\n",
       "\n",
       "        <script>\n",
       "            function code_toggle_9584237053267026532() {\n",
       "                $('div.cell.code_cell.rendered.selected').find('div.input').toggle();\n",
       "                var outputSubareas = $('div.cell.code_cell.rendered.selected').find('div.output_subarea');\n",
       "                if (outputSubareas.length > 1) {\n",
       "                    outputSubareas.first().toggle()\n",
       "                }\n",
       "            }\n",
       "            \n",
       "        </script>\n",
       "        <form action=\"javascript:code_toggle_9584237053267026532()\"><input type=\"submit\" value=\"Toggle the solution\"></form>\n",
       "    "
      ],
      "text/plain": [
       "<IPython.core.display.HTML object>"
      ]
     },
     "execution_count": 178,
     "metadata": {},
     "output_type": "execute_result"
    }
   ],
   "source": [
    "# Time:  O(logn) = O(1)\n",
    "# Space: O(1)\n",
    "\n",
    "\n",
    "class Solution(object):\n",
    "    def reverse(self, x):\n",
    "        \"\"\"\n",
    "        :type x: int\n",
    "        :rtype: int\n",
    "        \"\"\"\n",
    "        if x < 0:\n",
    "            return -self.reverse(-x)\n",
    "\n",
    "        result = 0\n",
    "        while x:\n",
    "            result = result * 10 + x % 10\n",
    "            x //= 10\n",
    "        return result if result <= 0x7fffffff else 0  # Handle overflow.\n",
    "\n",
    "    def reverse2(self, x):\n",
    "        \"\"\"\n",
    "        :type x: int\n",
    "        :rtype: int\n",
    "        \"\"\"\n",
    "        if x < 0:\n",
    "            x = int(str(x)[::-1][-1] + str(x)[::-1][:-1])\n",
    "        else:\n",
    "            x = int(str(x)[::-1])\n",
    "        x = 0 if abs(x) > 0x7FFFFFFF else x\n",
    "        return x\n",
    "\n",
    "    def reverse3(self, x):\n",
    "        \"\"\"\n",
    "        :type x: int\n",
    "        :rtype: int\n",
    "        \"\"\"\n",
    "        s = cmp(x, 0)\n",
    "        r = int(repr(s * x)[::-1])\n",
    "        return s * r * (r < 2 ** 31)\n",
    "\n",
    "\n",
    "if __name__ == \"__main__\":\n",
    "    print(Solution().reverse(123))\n",
    "    print(Solution().reverse(-321))\n",
    "\n",
    "\n",
    "hide_toggle(\"Toggle the solution\")"
   ]
  },
  {
   "cell_type": "code",
   "execution_count": 13,
   "metadata": {},
   "outputs": [
    {
     "name": "stdout",
     "output_type": "stream",
     "text": [
      "2 31\n",
      "21 3\n",
      "213 0\n",
      "213\n",
      "\n",
      "6 45\n",
      "65 4\n",
      "654 0\n",
      "-654\n"
     ]
    }
   ],
   "source": [
    "# Your solution\n",
    "\n",
    "class Solution(object):\n",
    "    def reverse(self, x):\n",
    "        if x < 0:\n",
    "            return -self.reverse(-x)\n",
    "        \n",
    "        result = 0\n",
    "        while x:\n",
    "            result = result * 10 + x % 10\n",
    "            x //= 10\n",
    "            print(result, x)\n",
    "        return result if result <= 0x7fffffff else 0\n",
    "    \n",
    "\n",
    "print(Solution().reverse(312))\n",
    "print()\n",
    "print(Solution().reverse(-456))"
   ]
  },
  {
   "cell_type": "markdown",
   "metadata": {},
   "source": [
    "---\n",
    "## [9. Palindrome Number (Easy)](https://leetcode.com/problems/palindrome-number/description)\n",
    "<p>Determine whether an integer is a palindrome. An integer is a palindrome when it reads the same backward as forward.</p>\n",
    "<p><strong>Example 1:</strong></p>\n",
    "<div class=\"example\"><strong>Input:</strong> 121\n",
    "<strong>Output:</strong> true</div>\n",
    "<p><strong>Example 2:</strong></p>\n",
    "<div class=\"example\"><strong>Input:</strong> -121\n",
    "<strong>Output:</strong> false\n",
    "<strong>Explanation:</strong> From left to right, it reads -121. From right to left, it becomes 121-. Therefore it is not a palindrome.</div>\n",
    "<p><strong>Example 3:</strong></p>\n",
    "<div class=\"example\"><strong>Input:</strong> 10\n",
    "<strong>Output:</strong> false\n",
    "<strong>Explanation:</strong> Reads 01 from right to left. Therefore it is not a palindrome.</div>\n",
    "<p><strong>Follow up:</strong></p>\n",
    "<p>Coud you solve it without converting the integer to a string?</p>\n"
   ]
  },
  {
   "cell_type": "code",
   "execution_count": 180,
   "metadata": {},
   "outputs": [
    {
     "name": "stdout",
     "output_type": "stream",
     "text": [
      "True\n",
      "False\n",
      "False\n"
     ]
    },
    {
     "data": {
      "text/html": [
       "\n",
       "<style>\n",
       "    div.example {\n",
       "        display: block;\n",
       "        padding: 9.5px;\n",
       "        margin: 0 0 10px;\n",
       "        white-space: pre;\n",
       "        background-color: #ffffe0;\n",
       "        border: 1px solid #ccc;\n",
       "        border-radius: 4px;\n",
       "    }\n",
       "\n",
       "    code {\n",
       "        color: #c7254e !important;\n",
       "        background-color: #f9f2f4 !important;\n",
       "    }\n",
       "\n",
       "    div.example code {\n",
       "        background-color: #ffffe0 !important;\n",
       "    }\n",
       "\n",
       "    hr {\n",
       "        border-top: 2px solid #000;\n",
       "    }\n",
       "</style>\n",
       "\n",
       "\n",
       "        <script>\n",
       "            function code_toggle_4426406708650006711() {\n",
       "                $('div.cell.code_cell.rendered.selected').find('div.input').toggle();\n",
       "                var outputSubareas = $('div.cell.code_cell.rendered.selected').find('div.output_subarea');\n",
       "                if (outputSubareas.length > 1) {\n",
       "                    outputSubareas.first().toggle()\n",
       "                }\n",
       "            }\n",
       "            \n",
       "        </script>\n",
       "        <form action=\"javascript:code_toggle_4426406708650006711()\"><input type=\"submit\" value=\"Toggle the solution\"></form>\n",
       "    "
      ],
      "text/plain": [
       "<IPython.core.display.HTML object>"
      ]
     },
     "execution_count": 180,
     "metadata": {},
     "output_type": "execute_result"
    }
   ],
   "source": [
    "# Time:  O(1)\n",
    "# Space: O(1)\n",
    "\n",
    "class Solution:\n",
    "    # @return a boolean\n",
    "    def isPalindrome(self, x):\n",
    "        if x < 0:\n",
    "            return False\n",
    "        copy, reverse = x, 0\n",
    "\n",
    "        while copy:\n",
    "            reverse *= 10\n",
    "            reverse += copy % 10\n",
    "            copy //= 10\n",
    "\n",
    "        return x == reverse\n",
    "\n",
    "if __name__ == \"__main__\":\n",
    "    print(Solution().isPalindrome(12321))\n",
    "    print(Solution().isPalindrome(12320))\n",
    "    print(Solution().isPalindrome(-12321))\n",
    "\n",
    "\n",
    "hide_toggle(\"Toggle the solution\")"
   ]
  },
  {
   "cell_type": "code",
   "execution_count": 12,
   "metadata": {},
   "outputs": [
    {
     "name": "stdout",
     "output_type": "stream",
     "text": [
      "False\n",
      "True\n"
     ]
    }
   ],
   "source": [
    "# Your solution\n",
    "class Solution:\n",
    "    def isPalindrome(self, x):\n",
    "        if x < 0: return False\n",
    "        copy, reverse = x, 0\n",
    "        \n",
    "        while copy:\n",
    "            reverse = reverse * 10 + copy % 10\n",
    "            copy //= 10\n",
    "        return x == reverse\n",
    "    \n",
    "print(Solution().isPalindrome(1234))\n",
    "print(Solution().isPalindrome(2332))"
   ]
  },
  {
   "cell_type": "markdown",
   "metadata": {},
   "source": [
    "---\n",
    "## [13. Roman to Integer (Easy)](https://leetcode.com/problems/roman-to-integer/description)\n",
    "<p>Roman numerals are represented by seven different symbols: <code>I</code>, <code>V</code>, <code>X</code>, <code>L</code>, <code>C</code>, <code>D</code> and <code>M</code>.</p>\n",
    "<div class=\"example\"><strong>Symbol</strong>       <strong>Value</strong>\n",
    "I             1\n",
    "V             5\n",
    "X             10\n",
    "L             50\n",
    "C             100\n",
    "D             500\n",
    "M             1000</div>\n",
    "<p>For example, two is written as <code>II</code> in Roman numeral, just two one's added together. Twelve is written as, <code>XII</code>, which is simply <code>X</code> + <code>II</code>. The number twenty seven is written as <code>XXVII</code>, which is <code>XX</code> + <code>V</code> + <code>II</code>.</p>\n",
    "<p>Roman numerals are usually written largest to smallest from left to right. However, the numeral for four is not <code>IIII</code>. Instead, the number four is written as <code>IV</code>. Because the one is before the five we subtract it making four. The same principle applies to the number nine, which is written as <code>IX</code>. There are six instances where subtraction is used:</p>\n",
    "<ul>\n",
    "<li><code>I</code> can be placed before <code>V</code> (5) and <code>X</code> (10) to make 4 and 9. </li>\n",
    "<li><code>X</code> can be placed before <code>L</code> (50) and <code>C</code> (100) to make 40 and 90. </li>\n",
    "<li><code>C</code> can be placed before <code>D</code> (500) and <code>M</code> (1000) to make 400 and 900.</li>\n",
    "</ul>\n",
    "<p>Given a roman numeral, convert it to an integer. Input is guaranteed to be within the range from 1 to 3999.</p>\n",
    "<p><strong>Example 1:</strong></p>\n",
    "<div class=\"example\"><strong>Input:</strong> \"III\"\n",
    "<strong>Output:</strong> 3</div>\n",
    "<p><strong>Example 2:</strong></p>\n",
    "<div class=\"example\"><strong>Input:</strong> \"IV\"\n",
    "<strong>Output:</strong> 4</div>\n",
    "<p><strong>Example 3:</strong></p>\n",
    "<div class=\"example\"><strong>Input:</strong> \"IX\"\n",
    "<strong>Output:</strong> 9</div>\n",
    "<p><strong>Example 4:</strong></p>\n",
    "<div class=\"example\"><strong>Input:</strong> \"LVIII\"\n",
    "<strong>Output:</strong> 58\n",
    "<strong>Explanation:</strong> L = 50, V= 5, III = 3.</div>\n",
    "<p><strong>Example 5:</strong></p>\n",
    "<div class=\"example\"><strong>Input:</strong> \"MCMXCIV\"\n",
    "<strong>Output:</strong> 1994\n",
    "<strong>Explanation:</strong> M = 1000, CM = 900, XC = 90 and IV = 4.</div>\n"
   ]
  },
  {
   "cell_type": "code",
   "execution_count": 182,
   "metadata": {},
   "outputs": [
    {
     "name": "stdout",
     "output_type": "stream",
     "text": [
      "5\n",
      "3999\n"
     ]
    },
    {
     "data": {
      "text/html": [
       "\n",
       "<style>\n",
       "    div.example {\n",
       "        display: block;\n",
       "        padding: 9.5px;\n",
       "        margin: 0 0 10px;\n",
       "        white-space: pre;\n",
       "        background-color: #ffffe0;\n",
       "        border: 1px solid #ccc;\n",
       "        border-radius: 4px;\n",
       "    }\n",
       "\n",
       "    code {\n",
       "        color: #c7254e !important;\n",
       "        background-color: #f9f2f4 !important;\n",
       "    }\n",
       "\n",
       "    div.example code {\n",
       "        background-color: #ffffe0 !important;\n",
       "    }\n",
       "\n",
       "    hr {\n",
       "        border-top: 2px solid #000;\n",
       "    }\n",
       "</style>\n",
       "\n",
       "\n",
       "        <script>\n",
       "            function code_toggle_3686057059641931060() {\n",
       "                $('div.cell.code_cell.rendered.selected').find('div.input').toggle();\n",
       "                var outputSubareas = $('div.cell.code_cell.rendered.selected').find('div.output_subarea');\n",
       "                if (outputSubareas.length > 1) {\n",
       "                    outputSubareas.first().toggle()\n",
       "                }\n",
       "            }\n",
       "            \n",
       "        </script>\n",
       "        <form action=\"javascript:code_toggle_3686057059641931060()\"><input type=\"submit\" value=\"Toggle the solution\"></form>\n",
       "    "
      ],
      "text/plain": [
       "<IPython.core.display.HTML object>"
      ]
     },
     "execution_count": 182,
     "metadata": {},
     "output_type": "execute_result"
    }
   ],
   "source": [
    "# Time:  O(n)\n",
    "# Space: O(1)\n",
    "\n",
    "class Solution:\n",
    "    # @return an integer\n",
    "    def romanToInt(self, s):\n",
    "        numeral_map = {\"I\": 1, \"V\": 5, \"X\": 10, \"L\": 50, \"C\":100, \"D\": 500, \"M\": 1000}\n",
    "        decimal = 0\n",
    "        for i in xrange(len(s)):\n",
    "            if i > 0 and numeral_map[s[i]] > numeral_map[s[i - 1]]:\n",
    "                decimal += numeral_map[s[i]] - 2 * numeral_map[s[i - 1]]\n",
    "            else:\n",
    "                decimal += numeral_map[s[i]]\n",
    "        return decimal\n",
    "\n",
    "if __name__ == \"__main__\":\n",
    "    print(Solution().romanToInt(\"IIVX\"))\n",
    "    print(Solution().romanToInt(\"MMMCMXCIX\"))\n",
    "\n",
    "\n",
    "hide_toggle(\"Toggle the solution\")"
   ]
  },
  {
   "cell_type": "code",
   "execution_count": 11,
   "metadata": {},
   "outputs": [
    {
     "name": "stdout",
     "output_type": "stream",
     "text": [
      "1994\n",
      "0\n"
     ]
    }
   ],
   "source": [
    "# Your solution\n",
    "class Solution:\n",
    "    def romanToInt(self, s):\n",
    "        num_map = {\n",
    "            'I': 1,\n",
    "            'V': 5,\n",
    "            'X': 10,\n",
    "            'L': 50,\n",
    "            'C': 100,\n",
    "            'D': 500,\n",
    "            'M': 1000\n",
    "        }\n",
    "        result = 0\n",
    "        for i in range(len(s)):\n",
    "            if i > 0 and num_map[s[i]] > num_map[s[i - 1]]:\n",
    "                result += num_map[s[i]] - 2 * num_map[s[i - 1]]\n",
    "            else:\n",
    "                result += num_map[s[i]]\n",
    "        return result\n",
    "    \n",
    "print(Solution().romanToInt(\"MCMXCIV\"))\n",
    "print(Solution().romanToInt(\"\"))"
   ]
  },
  {
   "cell_type": "markdown",
   "metadata": {},
   "source": [
    "---\n",
    "## [14. Longest Common Prefix (Easy)](https://leetcode.com/problems/longest-common-prefix/description)\n",
    "<p>Write a function to find the longest common prefix string amongst an array of strings.</p>\n",
    "<p>If there is no common prefix, return an empty string <code>\"\"</code>.</p>\n",
    "<p><strong>Example 1:</strong></p>\n",
    "<div class=\"example\"><strong>Input: </strong>[\"flower\",\"flow\",\"flight\"]\n",
    "<strong>Output:</strong> \"fl\"</div>\n",
    "<p><strong>Example 2:</strong></p>\n",
    "<div class=\"example\"><strong>Input: </strong>[\"dog\",\"racecar\",\"car\"]\n",
    "<strong>Output:</strong> \"\"\n",
    "<strong>Explanation:</strong> There is no common prefix among the input strings.</div>\n",
    "<p><strong>Note:</strong></p>\n",
    "<p>All given inputs are in lowercase letters <code>a-z</code>.</p>\n"
   ]
  },
  {
   "cell_type": "code",
   "execution_count": 184,
   "metadata": {},
   "outputs": [
    {
     "name": "stdout",
     "output_type": "stream",
     "text": [
      "he\n"
     ]
    },
    {
     "data": {
      "text/html": [
       "\n",
       "<style>\n",
       "    div.example {\n",
       "        display: block;\n",
       "        padding: 9.5px;\n",
       "        margin: 0 0 10px;\n",
       "        white-space: pre;\n",
       "        background-color: #ffffe0;\n",
       "        border: 1px solid #ccc;\n",
       "        border-radius: 4px;\n",
       "    }\n",
       "\n",
       "    code {\n",
       "        color: #c7254e !important;\n",
       "        background-color: #f9f2f4 !important;\n",
       "    }\n",
       "\n",
       "    div.example code {\n",
       "        background-color: #ffffe0 !important;\n",
       "    }\n",
       "\n",
       "    hr {\n",
       "        border-top: 2px solid #000;\n",
       "    }\n",
       "</style>\n",
       "\n",
       "\n",
       "        <script>\n",
       "            function code_toggle_10299079449140909113() {\n",
       "                $('div.cell.code_cell.rendered.selected').find('div.input').toggle();\n",
       "                var outputSubareas = $('div.cell.code_cell.rendered.selected').find('div.output_subarea');\n",
       "                if (outputSubareas.length > 1) {\n",
       "                    outputSubareas.first().toggle()\n",
       "                }\n",
       "            }\n",
       "            \n",
       "        </script>\n",
       "        <form action=\"javascript:code_toggle_10299079449140909113()\"><input type=\"submit\" value=\"Toggle the solution\"></form>\n",
       "    "
      ],
      "text/plain": [
       "<IPython.core.display.HTML object>"
      ]
     },
     "execution_count": 184,
     "metadata": {},
     "output_type": "execute_result"
    }
   ],
   "source": [
    "# Time:  O(n * k), k is the length of the common prefix\n",
    "# Space: O(1)\n",
    "\n",
    "\n",
    "class Solution(object):\n",
    "    def longestCommonPrefix(self, strs):\n",
    "        \"\"\"\n",
    "        :type strs: List[str]\n",
    "        :rtype: str\n",
    "        \"\"\"\n",
    "        if not strs:\n",
    "            return \"\"\n",
    "\n",
    "        for i in xrange(len(strs[0])):\n",
    "            for string in strs[1:]:\n",
    "                if i >= len(string) or string[i] != strs[0][i]:\n",
    "                    return strs[0][:i]\n",
    "        return strs[0]\n",
    "\n",
    "\n",
    "if __name__ == \"__main__\":\n",
    "    print(Solution().longestCommonPrefix([\"hello\", \"heaven\", \"heavy\"]))\n",
    "\n",
    "\n",
    "hide_toggle(\"Toggle the solution\")"
   ]
  },
  {
   "cell_type": "code",
   "execution_count": 185,
   "metadata": {},
   "outputs": [],
   "source": [
    "# Your solution"
   ]
  },
  {
   "cell_type": "markdown",
   "metadata": {},
   "source": [
    "---\n",
    "## [20. Valid Parentheses (Easy)](https://leetcode.com/problems/valid-parentheses/description)\n",
    "<p>Given a string containing just the characters <code>'('</code>, <code>')'</code>, <code>'{'</code>, <code>'}'</code>, <code>'['</code> and <code>']'</code>, determine if the input string is valid.</p>\n",
    "<p>An input string is valid if:</p>\n",
    "<ol>\n",
    "<li>Open brackets must be closed by the same type of brackets.</li>\n",
    "<li>Open brackets must be closed in the correct order.</li>\n",
    "</ol>\n",
    "<p>Note that an empty string is also considered valid.</p>\n",
    "<p><strong>Example 1:</strong></p>\n",
    "<div class=\"example\"><strong>Input:</strong> \"()\"\n",
    "<strong>Output:</strong> true</div>\n",
    "<p><strong>Example 2:</strong></p>\n",
    "<div class=\"example\"><strong>Input:</strong> \"()[]{}\"\n",
    "<strong>Output:</strong> true</div>\n",
    "<p><strong>Example 3:</strong></p>\n",
    "<div class=\"example\"><strong>Input:</strong> \"(]\"\n",
    "<strong>Output:</strong> false</div>\n",
    "<p><strong>Example 4:</strong></p>\n",
    "<div class=\"example\"><strong>Input:</strong> \"([)]\"\n",
    "<strong>Output:</strong> false</div>\n",
    "<p><strong>Example 5:</strong></p>\n",
    "<div class=\"example\"><strong>Input:</strong> \"{[]}\"\n",
    "<strong>Output:</strong> true</div>\n"
   ]
  },
  {
   "cell_type": "code",
   "execution_count": 186,
   "metadata": {},
   "outputs": [
    {
     "name": "stdout",
     "output_type": "stream",
     "text": [
      "True\n",
      "False\n"
     ]
    },
    {
     "data": {
      "text/html": [
       "\n",
       "<style>\n",
       "    div.example {\n",
       "        display: block;\n",
       "        padding: 9.5px;\n",
       "        margin: 0 0 10px;\n",
       "        white-space: pre;\n",
       "        background-color: #ffffe0;\n",
       "        border: 1px solid #ccc;\n",
       "        border-radius: 4px;\n",
       "    }\n",
       "\n",
       "    code {\n",
       "        color: #c7254e !important;\n",
       "        background-color: #f9f2f4 !important;\n",
       "    }\n",
       "\n",
       "    div.example code {\n",
       "        background-color: #ffffe0 !important;\n",
       "    }\n",
       "\n",
       "    hr {\n",
       "        border-top: 2px solid #000;\n",
       "    }\n",
       "</style>\n",
       "\n",
       "\n",
       "        <script>\n",
       "            function code_toggle_16171086182169834100() {\n",
       "                $('div.cell.code_cell.rendered.selected').find('div.input').toggle();\n",
       "                var outputSubareas = $('div.cell.code_cell.rendered.selected').find('div.output_subarea');\n",
       "                if (outputSubareas.length > 1) {\n",
       "                    outputSubareas.first().toggle()\n",
       "                }\n",
       "            }\n",
       "            \n",
       "        </script>\n",
       "        <form action=\"javascript:code_toggle_16171086182169834100()\"><input type=\"submit\" value=\"Toggle the solution\"></form>\n",
       "    "
      ],
      "text/plain": [
       "<IPython.core.display.HTML object>"
      ]
     },
     "execution_count": 186,
     "metadata": {},
     "output_type": "execute_result"
    }
   ],
   "source": [
    "# Time:  O(n)\n",
    "# Space: O(n)\n",
    "\n",
    "class Solution:\n",
    "    # @return a boolean\n",
    "    def isValid(self, s):\n",
    "        stack, lookup = [], {\"(\": \")\", \"{\": \"}\", \"[\": \"]\"}\n",
    "        for parenthese in s:\n",
    "            if parenthese in lookup:\n",
    "                stack.append(parenthese)\n",
    "            elif len(stack) == 0 or lookup[stack.pop()] != parenthese:\n",
    "                return False\n",
    "        return len(stack) == 0\n",
    "\n",
    "if __name__ == \"__main__\":\n",
    "    print(Solution().isValid(\"()[]{}\"))\n",
    "    print(Solution().isValid(\"()[{]}\"))\n",
    "\n",
    "hide_toggle(\"Toggle the solution\")"
   ]
  },
  {
   "cell_type": "code",
   "execution_count": 187,
   "metadata": {},
   "outputs": [],
   "source": [
    "# Your solution"
   ]
  },
  {
   "cell_type": "markdown",
   "metadata": {},
   "source": [
    "---\n",
    "## [21. Merge Two Sorted Lists (Easy)](https://leetcode.com/problems/merge-two-sorted-lists/description)\n",
    "<p>Merge two sorted linked lists and return it as a new list. The new list should be made by splicing together the nodes of the first two lists.</p>\n",
    "<p><b>Example:</b>\n",
    "</p><div class=\"example\"><b>Input:</b> 1-&gt;2-&gt;4, 1-&gt;3-&gt;4\n",
    "<b>Output:</b> 1-&gt;1-&gt;2-&gt;3-&gt;4-&gt;4</div>\n",
    "<p></p>"
   ]
  },
  {
   "cell_type": "code",
   "execution_count": 188,
   "metadata": {},
   "outputs": [
    {
     "name": "stdout",
     "output_type": "stream",
     "text": [
      "0 -> 1 -> 2 -> 3 -> None\n"
     ]
    },
    {
     "data": {
      "text/html": [
       "\n",
       "<style>\n",
       "    div.example {\n",
       "        display: block;\n",
       "        padding: 9.5px;\n",
       "        margin: 0 0 10px;\n",
       "        white-space: pre;\n",
       "        background-color: #ffffe0;\n",
       "        border: 1px solid #ccc;\n",
       "        border-radius: 4px;\n",
       "    }\n",
       "\n",
       "    code {\n",
       "        color: #c7254e !important;\n",
       "        background-color: #f9f2f4 !important;\n",
       "    }\n",
       "\n",
       "    div.example code {\n",
       "        background-color: #ffffe0 !important;\n",
       "    }\n",
       "\n",
       "    hr {\n",
       "        border-top: 2px solid #000;\n",
       "    }\n",
       "</style>\n",
       "\n",
       "\n",
       "        <script>\n",
       "            function code_toggle_11574161648953921213() {\n",
       "                $('div.cell.code_cell.rendered.selected').find('div.input').toggle();\n",
       "                var outputSubareas = $('div.cell.code_cell.rendered.selected').find('div.output_subarea');\n",
       "                if (outputSubareas.length > 1) {\n",
       "                    outputSubareas.first().toggle()\n",
       "                }\n",
       "            }\n",
       "            \n",
       "        </script>\n",
       "        <form action=\"javascript:code_toggle_11574161648953921213()\"><input type=\"submit\" value=\"Toggle the solution\"></form>\n",
       "    "
      ],
      "text/plain": [
       "<IPython.core.display.HTML object>"
      ]
     },
     "execution_count": 188,
     "metadata": {},
     "output_type": "execute_result"
    }
   ],
   "source": [
    "# Time:  O(n)\n",
    "# Space: O(1)\n",
    "\n",
    "class ListNode(object):\n",
    "    def __init__(self, x):\n",
    "        self.val = x\n",
    "        self.next = None\n",
    "\n",
    "    def __repr__(self):\n",
    "        if self:\n",
    "            return \"{} -> {}\".format(self.val, self.next)\n",
    "\n",
    "\n",
    "class Solution(object):\n",
    "    def mergeTwoLists(self, l1, l2):\n",
    "        \"\"\"\n",
    "        :type l1: ListNode\n",
    "        :type l2: ListNode\n",
    "        :rtype: ListNode\n",
    "        \"\"\"\n",
    "        curr = dummy = ListNode(0)\n",
    "        while l1 and l2:\n",
    "            if l1.val < l2.val:\n",
    "                curr.next = l1\n",
    "                l1 = l1.next\n",
    "            else:\n",
    "                curr.next = l2\n",
    "                l2 = l2.next\n",
    "            curr = curr.next\n",
    "        curr.next = l1 or l2\n",
    "        return dummy.next\n",
    "\n",
    "\n",
    "if __name__ == \"__main__\":\n",
    "    l1 = ListNode(0)\n",
    "    l1.next = ListNode(1)\n",
    "    l2 = ListNode (2)\n",
    "    l2.next = ListNode(3)\n",
    "    print(Solution().mergeTwoLists(l1, l2))\n",
    "\n",
    "\n",
    "\n",
    "\n",
    "hide_toggle(\"Toggle the solution\")"
   ]
  },
  {
   "cell_type": "code",
   "execution_count": 189,
   "metadata": {},
   "outputs": [],
   "source": [
    "# Your solution"
   ]
  },
  {
   "cell_type": "markdown",
   "metadata": {},
   "source": [
    "---\n",
    "## [26. Remove Duplicates from Sorted Array (Easy)](https://leetcode.com/problems/remove-duplicates-from-sorted-array/description)\n",
    "<p>Given a sorted array <em>nums</em>, remove the duplicates <a href=\"https://en.wikipedia.org/wiki/In-place_algorithm\" target=\"_blank\"><strong>in-place</strong></a> such that each element appear only <em>once</em> and return the new length.</p>\n",
    "<p>Do not allocate extra space for another array, you must do this by <strong>modifying the input array <a href=\"https://en.wikipedia.org/wiki/In-place_algorithm\" target=\"_blank\">in-place</a></strong> with O(1) extra memory.</p>\n",
    "<p><strong>Example 1:</strong></p>\n",
    "<div class=\"example\">Given <em>nums</em> = <strong>[1,1,2]</strong>,\n",
    "\n",
    "Your function should return length = <strong><code>2</code></strong>, with the first two elements of <em><code>nums</code></em> being <strong><code>1</code></strong> and <strong><code>2</code></strong> respectively.\n",
    "\n",
    "It doesn't matter what you leave beyond the returned length.</div>\n",
    "<p><strong>Example 2:</strong></p>\n",
    "<div class=\"example\">Given <em>nums</em> = <strong>[0,0,1,1,1,2,2,3,3,4]</strong>,\n",
    "\n",
    "Your function should return length = <strong><code>5</code></strong>, with the first five elements of <em><code>nums</code></em> being modified to <strong><code>0</code></strong>, <strong><code>1</code></strong>, <strong><code>2</code></strong>, <strong><code>3</code></strong>, and <strong><code>4</code></strong> respectively.\n",
    "\n",
    "It doesn't matter what values are set beyond the returned length.</div>\n",
    "<p><strong>Clarification:</strong></p>\n",
    "<p>Confused why the returned value is an integer but your answer is an array?</p>\n",
    "<p>Note that the input array is passed in by <strong>reference</strong>, which means modification to the input array will be known to the caller as well.</p>\n",
    "<p>Internally you can think of this:</p>\n",
    "<div class=\"example\">// <strong>nums</strong> is passed in by reference. (i.e., without making a copy)\n",
    "int len = removeDuplicates(nums);\n",
    "\n",
    "// any modification to <strong>nums</strong> in your function would be known by the caller.\n",
    "// using the length returned by your function, it prints the first <strong>len</strong> elements.\n",
    "for (int i = 0; i &lt; len; i++) {\n",
    "    print(nums[i]);\n",
    "}</div>\n"
   ]
  },
  {
   "cell_type": "code",
   "execution_count": 190,
   "metadata": {},
   "outputs": [
    {
     "data": {
      "text/html": [
       "\n",
       "<style>\n",
       "    div.example {\n",
       "        display: block;\n",
       "        padding: 9.5px;\n",
       "        margin: 0 0 10px;\n",
       "        white-space: pre;\n",
       "        background-color: #ffffe0;\n",
       "        border: 1px solid #ccc;\n",
       "        border-radius: 4px;\n",
       "    }\n",
       "\n",
       "    code {\n",
       "        color: #c7254e !important;\n",
       "        background-color: #f9f2f4 !important;\n",
       "    }\n",
       "\n",
       "    div.example code {\n",
       "        background-color: #ffffe0 !important;\n",
       "    }\n",
       "\n",
       "    hr {\n",
       "        border-top: 2px solid #000;\n",
       "    }\n",
       "</style>\n",
       "\n",
       "\n",
       "        <script>\n",
       "            function code_toggle_13602152380748934959() {\n",
       "                $('div.cell.code_cell.rendered.selected').find('div.input').toggle();\n",
       "                var outputSubareas = $('div.cell.code_cell.rendered.selected').find('div.output_subarea');\n",
       "                if (outputSubareas.length > 1) {\n",
       "                    outputSubareas.first().toggle()\n",
       "                }\n",
       "            }\n",
       "            \n",
       "        </script>\n",
       "        <form action=\"javascript:code_toggle_13602152380748934959()\"><input type=\"submit\" value=\"Toggle the solution\"></form>\n",
       "    "
      ],
      "text/plain": [
       "<IPython.core.display.HTML object>"
      ]
     },
     "execution_count": 190,
     "metadata": {},
     "output_type": "execute_result"
    }
   ],
   "source": [
    "# Time:  O(n)\n",
    "# Space: O(1)\n",
    "\n",
    "\n",
    "class Solution(object):\n",
    "    # @param a list of integers\n",
    "    # @return an integer\n",
    "    def removeDuplicates(self, A):\n",
    "        if not A:\n",
    "            return 0\n",
    "\n",
    "        last = 0\n",
    "        for i in xrange(len(A)):\n",
    "            if A[last] != A[i]:\n",
    "                last += 1\n",
    "                A[last] = A[i]\n",
    "        return last + 1\n",
    "\n",
    "\n",
    "hide_toggle(\"Toggle the solution\")"
   ]
  },
  {
   "cell_type": "code",
   "execution_count": 191,
   "metadata": {},
   "outputs": [],
   "source": [
    "# Your solution"
   ]
  },
  {
   "cell_type": "markdown",
   "metadata": {},
   "source": [
    "---\n",
    "## [27. Remove Element (Easy)](https://leetcode.com/problems/remove-element/description)\n",
    "<p>Given an array <em>nums</em> and a value <em>val</em>, remove all instances of that value <a href=\"https://en.wikipedia.org/wiki/In-place_algorithm\" target=\"_blank\"><strong>in-place</strong></a> and return the new length.</p>\n",
    "<p>Do not allocate extra space for another array, you must do this by <strong>modifying the input array <a href=\"https://en.wikipedia.org/wiki/In-place_algorithm\" target=\"_blank\">in-place</a></strong> with O(1) extra memory.</p>\n",
    "<p>The order of elements can be changed. It doesn't matter what you leave beyond the new length.</p>\n",
    "<p><strong>Example 1:</strong></p>\n",
    "<div class=\"example\">Given <em>nums</em> = <strong>[3,2,2,3]</strong>, <em>val</em> = <strong>3</strong>,\n",
    "\n",
    "Your function should return length = <strong>2</strong>, with the first two elements of <em>nums</em> being <strong>2</strong>.\n",
    "\n",
    "It doesn't matter what you leave beyond the returned length.</div>\n",
    "<p><strong>Example 2:</strong></p>\n",
    "<div class=\"example\">Given <em>nums</em> = <strong>[0,1,2,2,3,0,4,2]</strong>, <em>val</em> = <strong>2</strong>,\n",
    "\n",
    "Your function should return length = <strong><code>5</code></strong>, with the first five elements of <em><code>nums</code></em> containing <strong><code>0</code></strong>, <strong><code>1</code></strong>, <strong><code>3</code></strong>, <strong><code>0</code></strong>, and <strong>4</strong>.\n",
    "\n",
    "Note that the order of those five elements can be arbitrary.\n",
    "\n",
    "It doesn't matter what values are set beyond the returned length.</div>\n",
    "<p><strong>Clarification:</strong></p>\n",
    "<p>Confused why the returned value is an integer but your answer is an array?</p>\n",
    "<p>Note that the input array is passed in by <strong>reference</strong>, which means modification to the input array will be known to the caller as well.</p>\n",
    "<p>Internally you can think of this:</p>\n",
    "<div class=\"example\">// <strong>nums</strong> is passed in by reference. (i.e., without making a copy)\n",
    "int len = removeElement(nums, val);\n",
    "\n",
    "// any modification to <strong>nums</strong> in your function would be known by the caller.\n",
    "// using the length returned by your function, it prints the first <strong>len</strong> elements.\n",
    "for (int i = 0; i &lt; len; i++) {\n",
    "    print(nums[i]);\n",
    "}</div>\n"
   ]
  },
  {
   "cell_type": "code",
   "execution_count": 192,
   "metadata": {},
   "outputs": [
    {
     "name": "stdout",
     "output_type": "stream",
     "text": [
      "4\n"
     ]
    },
    {
     "data": {
      "text/html": [
       "\n",
       "<style>\n",
       "    div.example {\n",
       "        display: block;\n",
       "        padding: 9.5px;\n",
       "        margin: 0 0 10px;\n",
       "        white-space: pre;\n",
       "        background-color: #ffffe0;\n",
       "        border: 1px solid #ccc;\n",
       "        border-radius: 4px;\n",
       "    }\n",
       "\n",
       "    code {\n",
       "        color: #c7254e !important;\n",
       "        background-color: #f9f2f4 !important;\n",
       "    }\n",
       "\n",
       "    div.example code {\n",
       "        background-color: #ffffe0 !important;\n",
       "    }\n",
       "\n",
       "    hr {\n",
       "        border-top: 2px solid #000;\n",
       "    }\n",
       "</style>\n",
       "\n",
       "\n",
       "        <script>\n",
       "            function code_toggle_4519138079356227318() {\n",
       "                $('div.cell.code_cell.rendered.selected').find('div.input').toggle();\n",
       "                var outputSubareas = $('div.cell.code_cell.rendered.selected').find('div.output_subarea');\n",
       "                if (outputSubareas.length > 1) {\n",
       "                    outputSubareas.first().toggle()\n",
       "                }\n",
       "            }\n",
       "            \n",
       "        </script>\n",
       "        <form action=\"javascript:code_toggle_4519138079356227318()\"><input type=\"submit\" value=\"Toggle the solution\"></form>\n",
       "    "
      ],
      "text/plain": [
       "<IPython.core.display.HTML object>"
      ]
     },
     "execution_count": 192,
     "metadata": {},
     "output_type": "execute_result"
    }
   ],
   "source": [
    "# Time:  O(n)\n",
    "# Space: O(1)\n",
    "\n",
    "class Solution:\n",
    "    # @param    A       a list of integers\n",
    "    # @param    elem    an integer, value need to be removed\n",
    "    # @return an integer\n",
    "    def removeElement(self, A, elem):\n",
    "        i, last = 0, len(A) - 1\n",
    "        while i <= last:\n",
    "            if A[i] == elem:\n",
    "                A[i], A[last] = A[last], A[i]\n",
    "                last -= 1\n",
    "            else:\n",
    "                i += 1\n",
    "        return last + 1\n",
    "\n",
    "if __name__ == \"__main__\":\n",
    "    print(Solution().removeElement([1, 2, 3, 4, 5, 2, 2], 2))\n",
    "\n",
    "hide_toggle(\"Toggle the solution\")"
   ]
  },
  {
   "cell_type": "code",
   "execution_count": 193,
   "metadata": {},
   "outputs": [],
   "source": [
    "# Your solution"
   ]
  },
  {
   "cell_type": "markdown",
   "metadata": {},
   "source": [
    "---\n",
    "## [28. Implement strStr() (Easy)](https://leetcode.com/problems/implement-strstr/description)\n",
    "<p>Implement <a href=\"http://www.cplusplus.com/reference/cstring/strstr/\" target=\"_blank\">strStr()</a>.</p>\n",
    "<p>Return the index of the first occurrence of needle in haystack, or <strong>-1</strong> if needle is not part of haystack.</p>\n",
    "<p><strong>Example 1:</strong></p>\n",
    "<div class=\"example\"><strong>Input:</strong> haystack = \"hello\", needle = \"ll\"\n",
    "<strong>Output:</strong> 2</div>\n",
    "<p><strong>Example 2:</strong></p>\n",
    "<div class=\"example\"><strong>Input:</strong> haystack = \"aaaaa\", needle = \"bba\"\n",
    "<strong>Output:</strong> -1</div>\n",
    "<p><strong>Clarification:</strong></p>\n",
    "<p>What should we return when <code>needle</code> is an empty string? This is a great question to ask during an interview.</p>\n",
    "<p>For the purpose of this problem, we will return 0 when <code>needle</code> is an empty string. This is consistent to C's <a href=\"http://www.cplusplus.com/reference/cstring/strstr/\" target=\"_blank\">strstr()</a> and Java's <a href=\"https://docs.oracle.com/javase/7/docs/api/java/lang/String.html#indexOf(java.lang.String)\" target=\"_blank\">indexOf()</a>.</p>\n"
   ]
  },
  {
   "cell_type": "code",
   "execution_count": 194,
   "metadata": {},
   "outputs": [
    {
     "data": {
      "text/html": [
       "\n",
       "<style>\n",
       "    div.example {\n",
       "        display: block;\n",
       "        padding: 9.5px;\n",
       "        margin: 0 0 10px;\n",
       "        white-space: pre;\n",
       "        background-color: #ffffe0;\n",
       "        border: 1px solid #ccc;\n",
       "        border-radius: 4px;\n",
       "    }\n",
       "\n",
       "    code {\n",
       "        color: #c7254e !important;\n",
       "        background-color: #f9f2f4 !important;\n",
       "    }\n",
       "\n",
       "    div.example code {\n",
       "        background-color: #ffffe0 !important;\n",
       "    }\n",
       "\n",
       "    hr {\n",
       "        border-top: 2px solid #000;\n",
       "    }\n",
       "</style>\n",
       "\n",
       "\n",
       "        <script>\n",
       "            function code_toggle_9513344291261699891() {\n",
       "                $('div.cell.code_cell.rendered.selected').find('div.input').toggle();\n",
       "                var outputSubareas = $('div.cell.code_cell.rendered.selected').find('div.output_subarea');\n",
       "                if (outputSubareas.length > 1) {\n",
       "                    outputSubareas.first().toggle()\n",
       "                }\n",
       "            }\n",
       "            \n",
       "        </script>\n",
       "        <form action=\"javascript:code_toggle_9513344291261699891()\"><input type=\"submit\" value=\"Toggle the solution\"></form>\n",
       "    "
      ],
      "text/plain": [
       "<IPython.core.display.HTML object>"
      ]
     },
     "execution_count": 194,
     "metadata": {},
     "output_type": "execute_result"
    }
   ],
   "source": [
    "\n",
    "\n",
    "hide_toggle(\"Toggle the solution\")"
   ]
  },
  {
   "cell_type": "code",
   "execution_count": 195,
   "metadata": {},
   "outputs": [],
   "source": [
    "# Your solution"
   ]
  },
  {
   "cell_type": "markdown",
   "metadata": {},
   "source": [
    "---\n",
    "## [35. Search Insert Position (Easy)](https://leetcode.com/problems/search-insert-position/description)\n",
    "<p>Given a sorted array and a target value, return the index if the target is found. If not, return the index where it would be if it were inserted in order.</p>\n",
    "<p>You may assume no duplicates in the array.</p>\n",
    "<p><strong>Example 1:</strong></p>\n",
    "<div class=\"example\"><strong>Input:</strong> [1,3,5,6], 5\n",
    "<strong>Output:</strong> 2</div>\n",
    "<p><strong>Example 2:</strong></p>\n",
    "<div class=\"example\"><strong>Input:</strong> [1,3,5,6], 2\n",
    "<strong>Output:</strong> 1</div>\n",
    "<p><strong>Example 3:</strong></p>\n",
    "<div class=\"example\"><strong>Input:</strong> [1,3,5,6], 7\n",
    "<strong>Output:</strong> 4</div>\n",
    "<p><strong>Example 4:</strong></p>\n",
    "<div class=\"example\"><strong>Input:</strong> [1,3,5,6], 0\n",
    "<strong>Output:</strong> 0</div>\n"
   ]
  },
  {
   "cell_type": "code",
   "execution_count": 196,
   "metadata": {},
   "outputs": [
    {
     "name": "stdout",
     "output_type": "stream",
     "text": [
      "2\n",
      "1\n",
      "4\n",
      "0\n"
     ]
    },
    {
     "data": {
      "text/html": [
       "\n",
       "<style>\n",
       "    div.example {\n",
       "        display: block;\n",
       "        padding: 9.5px;\n",
       "        margin: 0 0 10px;\n",
       "        white-space: pre;\n",
       "        background-color: #ffffe0;\n",
       "        border: 1px solid #ccc;\n",
       "        border-radius: 4px;\n",
       "    }\n",
       "\n",
       "    code {\n",
       "        color: #c7254e !important;\n",
       "        background-color: #f9f2f4 !important;\n",
       "    }\n",
       "\n",
       "    div.example code {\n",
       "        background-color: #ffffe0 !important;\n",
       "    }\n",
       "\n",
       "    hr {\n",
       "        border-top: 2px solid #000;\n",
       "    }\n",
       "</style>\n",
       "\n",
       "\n",
       "        <script>\n",
       "            function code_toggle_16613936176954244946() {\n",
       "                $('div.cell.code_cell.rendered.selected').find('div.input').toggle();\n",
       "                var outputSubareas = $('div.cell.code_cell.rendered.selected').find('div.output_subarea');\n",
       "                if (outputSubareas.length > 1) {\n",
       "                    outputSubareas.first().toggle()\n",
       "                }\n",
       "            }\n",
       "            \n",
       "        </script>\n",
       "        <form action=\"javascript:code_toggle_16613936176954244946()\"><input type=\"submit\" value=\"Toggle the solution\"></form>\n",
       "    "
      ],
      "text/plain": [
       "<IPython.core.display.HTML object>"
      ]
     },
     "execution_count": 196,
     "metadata": {},
     "output_type": "execute_result"
    }
   ],
   "source": [
    "# Time:  O(logn)\n",
    "# Space: O(1)\n",
    "\n",
    "class Solution(object):\n",
    "    def searchInsert(self, nums, target):\n",
    "        \"\"\"\n",
    "        :type nums: List[int]\n",
    "        :type target: int\n",
    "        :rtype: int\n",
    "        \"\"\"\n",
    "        left, right = 0, len(nums) - 1\n",
    "        while left <= right:\n",
    "            mid = left + (right - left) // 2\n",
    "            if nums[mid] >= target:\n",
    "                right = mid - 1\n",
    "            else:\n",
    "                left = mid + 1\n",
    "\n",
    "        return left\n",
    "\n",
    "\n",
    "if __name__ == \"__main__\":\n",
    "    print(Solution().searchInsert([1, 3, 5, 6], 5))\n",
    "    print(Solution().searchInsert([1, 3, 5, 6], 2))\n",
    "    print(Solution().searchInsert([1, 3, 5, 6], 7))\n",
    "    print(Solution().searchInsert([1, 3, 5, 6], 0))\n",
    "\n",
    "\n",
    "hide_toggle(\"Toggle the solution\")"
   ]
  },
  {
   "cell_type": "code",
   "execution_count": 197,
   "metadata": {},
   "outputs": [],
   "source": [
    "# Your solution"
   ]
  },
  {
   "cell_type": "markdown",
   "metadata": {},
   "source": [
    "---\n",
    "## [38. Count and Say (Easy)](https://leetcode.com/problems/count-and-say/description)\n",
    "<p>The count-and-say sequence is the sequence of integers with the first five terms as following:</p>\n",
    "<div class=\"example\">1.     1\n",
    "2.     11\n",
    "3.     21\n",
    "4.     1211\n",
    "5.     111221</div>\n",
    "<p><code>1</code> is read off as <code>\"one 1\"</code> or <code>11</code>.<br/>\n",
    "<code>11</code> is read off as <code>\"two 1s\"</code> or <code>21</code>.<br/>\n",
    "<code>21</code> is read off as <code>\"one 2</code>, then <code>one 1\"</code> or <code>1211</code>.</p>\n",
    "<p>Given an integer <i>n</i> where 1 ≤ <em>n</em> ≤ 30, generate the <i>n</i><sup>th</sup> term of the count-and-say sequence.</p>\n",
    "<p>Note: Each term of the sequence of integers will be represented as a string.</p>\n",
    "<p> </p>\n",
    "<p><b>Example 1:</b></p>\n",
    "<div class=\"example\"><b>Input:</b> 1\n",
    "<b>Output:</b> \"1\"</div>\n",
    "<p><b>Example 2:</b></p>\n",
    "<div class=\"example\"><b>Input:</b> 4\n",
    "<b>Output:</b> \"1211\"</div>\n"
   ]
  },
  {
   "cell_type": "code",
   "execution_count": 198,
   "metadata": {},
   "outputs": [
    {
     "name": "stdout",
     "output_type": "stream",
     "text": [
      "1\n",
      "11\n",
      "21\n"
     ]
    },
    {
     "data": {
      "text/html": [
       "\n",
       "<style>\n",
       "    div.example {\n",
       "        display: block;\n",
       "        padding: 9.5px;\n",
       "        margin: 0 0 10px;\n",
       "        white-space: pre;\n",
       "        background-color: #ffffe0;\n",
       "        border: 1px solid #ccc;\n",
       "        border-radius: 4px;\n",
       "    }\n",
       "\n",
       "    code {\n",
       "        color: #c7254e !important;\n",
       "        background-color: #f9f2f4 !important;\n",
       "    }\n",
       "\n",
       "    div.example code {\n",
       "        background-color: #ffffe0 !important;\n",
       "    }\n",
       "\n",
       "    hr {\n",
       "        border-top: 2px solid #000;\n",
       "    }\n",
       "</style>\n",
       "\n",
       "\n",
       "        <script>\n",
       "            function code_toggle_6021980014760562785() {\n",
       "                $('div.cell.code_cell.rendered.selected').find('div.input').toggle();\n",
       "                var outputSubareas = $('div.cell.code_cell.rendered.selected').find('div.output_subarea');\n",
       "                if (outputSubareas.length > 1) {\n",
       "                    outputSubareas.first().toggle()\n",
       "                }\n",
       "            }\n",
       "            \n",
       "        </script>\n",
       "        <form action=\"javascript:code_toggle_6021980014760562785()\"><input type=\"submit\" value=\"Toggle the solution\"></form>\n",
       "    "
      ],
      "text/plain": [
       "<IPython.core.display.HTML object>"
      ]
     },
     "execution_count": 198,
     "metadata": {},
     "output_type": "execute_result"
    }
   ],
   "source": [
    "# Time:  O(n * 2^n)\n",
    "# Space: O(2^n)\n",
    "\n",
    "class Solution:\n",
    "    # @return a string\n",
    "    def countAndSay(self, n):\n",
    "        seq = \"1\"\n",
    "        for i in xrange(n - 1):\n",
    "            seq = self.getNext(seq)\n",
    "        return seq\n",
    "\n",
    "    def getNext(self, seq):\n",
    "        i, next_seq = 0, \"\"\n",
    "        while i < len(seq):\n",
    "            cnt = 1\n",
    "            while i < len(seq) - 1 and seq[i] == seq[i + 1]:\n",
    "                cnt += 1\n",
    "                i += 1\n",
    "            next_seq += str(cnt) + seq[i]\n",
    "            i += 1\n",
    "        return next_seq\n",
    "\n",
    "if __name__ == \"__main__\":\n",
    "    for i in xrange(1, 4):\n",
    "        print(Solution().countAndSay(i))\n",
    "\n",
    "\n",
    "\n",
    "\n",
    "hide_toggle(\"Toggle the solution\")"
   ]
  },
  {
   "cell_type": "code",
   "execution_count": 199,
   "metadata": {},
   "outputs": [],
   "source": [
    "# Your solution"
   ]
  },
  {
   "cell_type": "markdown",
   "metadata": {},
   "source": [
    "---\n",
    "## [53. Maximum Subarray (Easy)](https://leetcode.com/problems/maximum-subarray/description)\n",
    "<p>Given an integer array <code>nums</code>, find the contiguous subarray (containing at least one number) which has the largest sum and return its sum.</p>\n",
    "<p><strong>Example:</strong></p>\n",
    "<div class=\"example\"><strong>Input:</strong> [-2,1,-3,4,-1,2,1,-5,4],\n",
    "<strong>Output:</strong> 6\n",
    "<strong>Explanation:</strong> [4,-1,2,1] has the largest sum = 6.</div>\n",
    "<p><strong>Follow up:</strong></p>\n",
    "<p>If you have figured out the O(<em>n</em>) solution, try coding another solution using the divide and conquer approach, which is more subtle.</p>\n"
   ]
  },
  {
   "cell_type": "code",
   "execution_count": 200,
   "metadata": {},
   "outputs": [
    {
     "name": "stdout",
     "output_type": "stream",
     "text": [
      "6\n"
     ]
    },
    {
     "data": {
      "text/html": [
       "\n",
       "<style>\n",
       "    div.example {\n",
       "        display: block;\n",
       "        padding: 9.5px;\n",
       "        margin: 0 0 10px;\n",
       "        white-space: pre;\n",
       "        background-color: #ffffe0;\n",
       "        border: 1px solid #ccc;\n",
       "        border-radius: 4px;\n",
       "    }\n",
       "\n",
       "    code {\n",
       "        color: #c7254e !important;\n",
       "        background-color: #f9f2f4 !important;\n",
       "    }\n",
       "\n",
       "    div.example code {\n",
       "        background-color: #ffffe0 !important;\n",
       "    }\n",
       "\n",
       "    hr {\n",
       "        border-top: 2px solid #000;\n",
       "    }\n",
       "</style>\n",
       "\n",
       "\n",
       "        <script>\n",
       "            function code_toggle_14727561972509592785() {\n",
       "                $('div.cell.code_cell.rendered.selected').find('div.input').toggle();\n",
       "                var outputSubareas = $('div.cell.code_cell.rendered.selected').find('div.output_subarea');\n",
       "                if (outputSubareas.length > 1) {\n",
       "                    outputSubareas.first().toggle()\n",
       "                }\n",
       "            }\n",
       "            \n",
       "        </script>\n",
       "        <form action=\"javascript:code_toggle_14727561972509592785()\"><input type=\"submit\" value=\"Toggle the solution\"></form>\n",
       "    "
      ],
      "text/plain": [
       "<IPython.core.display.HTML object>"
      ]
     },
     "execution_count": 200,
     "metadata": {},
     "output_type": "execute_result"
    }
   ],
   "source": [
    "# Time:  O(n)\n",
    "# Space: O(1)\n",
    "\n",
    "class Solution(object):\n",
    "    def maxSubArray(self, nums):\n",
    "        \"\"\"\n",
    "        :type nums: List[int]\n",
    "        :rtype: int\n",
    "        \"\"\"\n",
    "        if max(nums) < 0:\n",
    "            return max(nums)\n",
    "        global_max, local_max = 0, 0\n",
    "        for x in nums:\n",
    "            local_max = max(0, local_max + x)\n",
    "            global_max = max(global_max, local_max)\n",
    "        return global_max\n",
    "\n",
    "\n",
    "if __name__ == \"__main__\":\n",
    "    print(Solution().maxSubArray([-2,1,-3,4,-1,2,1,-5,4]))\n",
    "\n",
    "\n",
    "hide_toggle(\"Toggle the solution\")"
   ]
  },
  {
   "cell_type": "code",
   "execution_count": 201,
   "metadata": {},
   "outputs": [],
   "source": [
    "# Your solution"
   ]
  },
  {
   "cell_type": "markdown",
   "metadata": {},
   "source": [
    "---\n",
    "## [58. Length of Last Word (Easy)](https://leetcode.com/problems/length-of-last-word/description)\n",
    "<p>Given a string <i>s</i> consists of upper/lower-case alphabets and empty space characters <code>' '</code>, return the length of last word in the string.</p>\n",
    "<p>If the last word does not exist, return 0.</p>\n",
    "<p><b>Note:</b> A word is defined as a character sequence consists of non-space characters only.</p>\n",
    "<p><b>Example:</b>\n",
    "</p><div class=\"example\"><b>Input:</b> \"Hello World\"\n",
    "<b>Output:</b> 5</div>\n",
    "<p></p>"
   ]
  },
  {
   "cell_type": "code",
   "execution_count": 202,
   "metadata": {},
   "outputs": [
    {
     "name": "stdout",
     "output_type": "stream",
     "text": [
      "5\n",
      "0\n"
     ]
    },
    {
     "data": {
      "text/html": [
       "\n",
       "<style>\n",
       "    div.example {\n",
       "        display: block;\n",
       "        padding: 9.5px;\n",
       "        margin: 0 0 10px;\n",
       "        white-space: pre;\n",
       "        background-color: #ffffe0;\n",
       "        border: 1px solid #ccc;\n",
       "        border-radius: 4px;\n",
       "    }\n",
       "\n",
       "    code {\n",
       "        color: #c7254e !important;\n",
       "        background-color: #f9f2f4 !important;\n",
       "    }\n",
       "\n",
       "    div.example code {\n",
       "        background-color: #ffffe0 !important;\n",
       "    }\n",
       "\n",
       "    hr {\n",
       "        border-top: 2px solid #000;\n",
       "    }\n",
       "</style>\n",
       "\n",
       "\n",
       "        <script>\n",
       "            function code_toggle_2208855890659959257() {\n",
       "                $('div.cell.code_cell.rendered.selected').find('div.input').toggle();\n",
       "                var outputSubareas = $('div.cell.code_cell.rendered.selected').find('div.output_subarea');\n",
       "                if (outputSubareas.length > 1) {\n",
       "                    outputSubareas.first().toggle()\n",
       "                }\n",
       "            }\n",
       "            \n",
       "        </script>\n",
       "        <form action=\"javascript:code_toggle_2208855890659959257()\"><input type=\"submit\" value=\"Toggle the solution\"></form>\n",
       "    "
      ],
      "text/plain": [
       "<IPython.core.display.HTML object>"
      ]
     },
     "execution_count": 202,
     "metadata": {},
     "output_type": "execute_result"
    }
   ],
   "source": [
    "# Time:  O(n)\n",
    "# Space: O(1)\n",
    "\n",
    "class Solution:\n",
    "    # @param s, a string\n",
    "    # @return an integer\n",
    "    def lengthOfLastWord(self, s):\n",
    "        length = 0\n",
    "        for i in reversed(s):\n",
    "            if i == ' ':\n",
    "                if length:\n",
    "                    break\n",
    "            else:\n",
    "                length += 1\n",
    "        return length\n",
    "\n",
    "# Time:  O(n)\n",
    "# Space: O(n)\n",
    "class Solution2:\n",
    "    # @param s, a string\n",
    "    # @return an integer\n",
    "    def lengthOfLastWord(self, s):\n",
    "        return len(s.strip().split(\" \")[-1])\n",
    "\n",
    "if __name__ == \"__main__\":\n",
    "    print(Solution().lengthOfLastWord(\"Hello World\"))\n",
    "    print(Solution2().lengthOfLastWord(\"\"))\n",
    "\n",
    "\n",
    "hide_toggle(\"Toggle the solution\")"
   ]
  },
  {
   "cell_type": "code",
   "execution_count": 203,
   "metadata": {},
   "outputs": [],
   "source": [
    "# Your solution"
   ]
  },
  {
   "cell_type": "markdown",
   "metadata": {},
   "source": [
    "---\n",
    "## [66. Plus One (Easy)](https://leetcode.com/problems/plus-one/description)\n",
    "<p>Given a <strong>non-empty</strong> array of digits representing a non-negative integer, plus one to the integer.</p>\n",
    "<p>The digits are stored such that the most significant digit is at the head of the list, and each element in the array contain a single digit.</p>\n",
    "<p>You may assume the integer does not contain any leading zero, except the number 0 itself.</p>\n",
    "<p><strong>Example 1:</strong></p>\n",
    "<div class=\"example\"><strong>Input:</strong> [1,2,3]\n",
    "<strong>Output:</strong> [1,2,4]\n",
    "<strong>Explanation:</strong> The array represents the integer 123.</div>\n",
    "<p><strong>Example 2:</strong></p>\n",
    "<div class=\"example\"><strong>Input:</strong> [4,3,2,1]\n",
    "<strong>Output:</strong> [4,3,2,2]\n",
    "<strong>Explanation:</strong> The array represents the integer 4321.</div>\n"
   ]
  },
  {
   "cell_type": "code",
   "execution_count": 204,
   "metadata": {},
   "outputs": [
    {
     "name": "stdout",
     "output_type": "stream",
     "text": [
      "[1, 0, 0, 0, 0]\n"
     ]
    },
    {
     "data": {
      "text/html": [
       "\n",
       "<style>\n",
       "    div.example {\n",
       "        display: block;\n",
       "        padding: 9.5px;\n",
       "        margin: 0 0 10px;\n",
       "        white-space: pre;\n",
       "        background-color: #ffffe0;\n",
       "        border: 1px solid #ccc;\n",
       "        border-radius: 4px;\n",
       "    }\n",
       "\n",
       "    code {\n",
       "        color: #c7254e !important;\n",
       "        background-color: #f9f2f4 !important;\n",
       "    }\n",
       "\n",
       "    div.example code {\n",
       "        background-color: #ffffe0 !important;\n",
       "    }\n",
       "\n",
       "    hr {\n",
       "        border-top: 2px solid #000;\n",
       "    }\n",
       "</style>\n",
       "\n",
       "\n",
       "        <script>\n",
       "            function code_toggle_11291895340481543275() {\n",
       "                $('div.cell.code_cell.rendered.selected').find('div.input').toggle();\n",
       "                var outputSubareas = $('div.cell.code_cell.rendered.selected').find('div.output_subarea');\n",
       "                if (outputSubareas.length > 1) {\n",
       "                    outputSubareas.first().toggle()\n",
       "                }\n",
       "            }\n",
       "            \n",
       "        </script>\n",
       "        <form action=\"javascript:code_toggle_11291895340481543275()\"><input type=\"submit\" value=\"Toggle the solution\"></form>\n",
       "    "
      ],
      "text/plain": [
       "<IPython.core.display.HTML object>"
      ]
     },
     "execution_count": 204,
     "metadata": {},
     "output_type": "execute_result"
    }
   ],
   "source": [
    "# Time:  O(n)\n",
    "# Space: O(1)\n",
    "\n",
    "\n",
    "class Solution(object):\n",
    "    def plusOne(self, digits):\n",
    "        \"\"\"\n",
    "        :type digits: List[int]\n",
    "        :rtype: List[int]\n",
    "        \"\"\"\n",
    "        for i in reversed(xrange(len(digits))):\n",
    "            if digits[i] == 9:\n",
    "                digits[i] = 0\n",
    "            else:\n",
    "                digits[i] += 1\n",
    "                return digits\n",
    "        digits[0] = 1\n",
    "        digits.append(0)\n",
    "        return digits\n",
    "\n",
    "\n",
    "# Time:  O(n)\n",
    "# Space: O(n)\n",
    "class Solution2(object):\n",
    "    def plusOne(self, digits):\n",
    "        \"\"\"\n",
    "        :type digits: List[int]\n",
    "        :rtype: List[int]\n",
    "        \"\"\"\n",
    "        result = digits[::-1]\n",
    "        carry = 1\n",
    "        for i in xrange(len(result)):\n",
    "            result[i] += carry\n",
    "            carry, result[i] = divmod(result[i], 10)\n",
    "        if carry:\n",
    "            result.append(carry)\n",
    "        return result[::-1]\n",
    "\n",
    "\n",
    "if __name__ == \"__main__\":\n",
    "    print(Solution().plusOne([9, 9, 9, 9]))\n",
    "\n",
    "\n",
    "hide_toggle(\"Toggle the solution\")"
   ]
  },
  {
   "cell_type": "code",
   "execution_count": 205,
   "metadata": {},
   "outputs": [],
   "source": [
    "# Your solution"
   ]
  },
  {
   "cell_type": "markdown",
   "metadata": {},
   "source": [
    "---\n",
    "## [67. Add Binary (Easy)](https://leetcode.com/problems/add-binary/description)\n",
    "<p>Given two binary strings, return their sum (also a binary string).</p>\n",
    "<p>The input strings are both <strong>non-empty</strong> and contains only characters <code>1</code> or <code>0</code>.</p>\n",
    "<p><strong>Example 1:</strong></p>\n",
    "<div class=\"example\"><strong>Input:</strong> a = \"11\", b = \"1\"\n",
    "<strong>Output:</strong> \"100\"</div>\n",
    "<p><strong>Example 2:</strong></p>\n",
    "<div class=\"example\"><strong>Input:</strong> a = \"1010\", b = \"1011\"\n",
    "<strong>Output:</strong> \"10101\"</div>\n"
   ]
  },
  {
   "cell_type": "code",
   "execution_count": 206,
   "metadata": {},
   "outputs": [
    {
     "data": {
      "text/html": [
       "\n",
       "<style>\n",
       "    div.example {\n",
       "        display: block;\n",
       "        padding: 9.5px;\n",
       "        margin: 0 0 10px;\n",
       "        white-space: pre;\n",
       "        background-color: #ffffe0;\n",
       "        border: 1px solid #ccc;\n",
       "        border-radius: 4px;\n",
       "    }\n",
       "\n",
       "    code {\n",
       "        color: #c7254e !important;\n",
       "        background-color: #f9f2f4 !important;\n",
       "    }\n",
       "\n",
       "    div.example code {\n",
       "        background-color: #ffffe0 !important;\n",
       "    }\n",
       "\n",
       "    hr {\n",
       "        border-top: 2px solid #000;\n",
       "    }\n",
       "</style>\n",
       "\n",
       "\n",
       "        <script>\n",
       "            function code_toggle_16228998538764829689() {\n",
       "                $('div.cell.code_cell.rendered.selected').find('div.input').toggle();\n",
       "                var outputSubareas = $('div.cell.code_cell.rendered.selected').find('div.output_subarea');\n",
       "                if (outputSubareas.length > 1) {\n",
       "                    outputSubareas.first().toggle()\n",
       "                }\n",
       "            }\n",
       "            \n",
       "        </script>\n",
       "        <form action=\"javascript:code_toggle_16228998538764829689()\"><input type=\"submit\" value=\"Toggle the solution\"></form>\n",
       "    "
      ],
      "text/plain": [
       "<IPython.core.display.HTML object>"
      ]
     },
     "execution_count": 206,
     "metadata": {},
     "output_type": "execute_result"
    }
   ],
   "source": [
    "# Time:  O(n)\n",
    "# Space: O(1)\n",
    "\n",
    "try:\n",
    "    xrange          # Python 2\n",
    "except NameError:\n",
    "    xrange = range  # Python 3\n",
    "\n",
    "\n",
    "class Solution:\n",
    "    # @param a, a string\n",
    "    # @param b, a string\n",
    "    # @return a string\n",
    "    def addBinary(self, a, b):\n",
    "        result, carry, val = \"\", 0, 0\n",
    "        for i in xrange(max(len(a), len(b))):\n",
    "            val = carry\n",
    "            if i < len(a):\n",
    "                val += int(a[-(i + 1)])\n",
    "            if i < len(b):\n",
    "                val += int(b[-(i + 1)])\n",
    "            carry, val = val / 2, val % 2\n",
    "            result += str(val)\n",
    "        if carry:\n",
    "            result += str(carry)\n",
    "        return result[::-1]\n",
    "\n",
    "\n",
    "hide_toggle(\"Toggle the solution\")"
   ]
  },
  {
   "cell_type": "code",
   "execution_count": 207,
   "metadata": {},
   "outputs": [],
   "source": [
    "# Your solution"
   ]
  },
  {
   "cell_type": "markdown",
   "metadata": {},
   "source": [
    "---\n",
    "## [69. Sqrt(x) (Easy)](https://leetcode.com/problems/sqrtx/description)\n",
    "<p>Implement <code>int sqrt(int x)</code>.</p>\n",
    "<p>Compute and return the square root of <em>x</em>, where <em>x</em> is guaranteed to be a non-negative integer.</p>\n",
    "<p>Since the return type is an integer, the decimal digits are truncated and only the integer part of the result is returned.</p>\n",
    "<p><strong>Example 1:</strong></p>\n",
    "<div class=\"example\"><strong>Input:</strong> 4\n",
    "<strong>Output:</strong> 2</div>\n",
    "<p><strong>Example 2:</strong></p>\n",
    "<div class=\"example\"><strong>Input:</strong> 8\n",
    "<strong>Output:</strong> 2\n",
    "<strong>Explanation:</strong> The square root of 8 is 2.82842..., and since \n",
    "             the decimal part is truncated, 2 is returned.</div>\n"
   ]
  },
  {
   "cell_type": "code",
   "execution_count": 208,
   "metadata": {},
   "outputs": [
    {
     "data": {
      "text/html": [
       "\n",
       "<style>\n",
       "    div.example {\n",
       "        display: block;\n",
       "        padding: 9.5px;\n",
       "        margin: 0 0 10px;\n",
       "        white-space: pre;\n",
       "        background-color: #ffffe0;\n",
       "        border: 1px solid #ccc;\n",
       "        border-radius: 4px;\n",
       "    }\n",
       "\n",
       "    code {\n",
       "        color: #c7254e !important;\n",
       "        background-color: #f9f2f4 !important;\n",
       "    }\n",
       "\n",
       "    div.example code {\n",
       "        background-color: #ffffe0 !important;\n",
       "    }\n",
       "\n",
       "    hr {\n",
       "        border-top: 2px solid #000;\n",
       "    }\n",
       "</style>\n",
       "\n",
       "\n",
       "        <script>\n",
       "            function code_toggle_8380834992512198425() {\n",
       "                $('div.cell.code_cell.rendered.selected').find('div.input').toggle();\n",
       "                var outputSubareas = $('div.cell.code_cell.rendered.selected').find('div.output_subarea');\n",
       "                if (outputSubareas.length > 1) {\n",
       "                    outputSubareas.first().toggle()\n",
       "                }\n",
       "            }\n",
       "            \n",
       "        </script>\n",
       "        <form action=\"javascript:code_toggle_8380834992512198425()\"><input type=\"submit\" value=\"Toggle the solution\"></form>\n",
       "    "
      ],
      "text/plain": [
       "<IPython.core.display.HTML object>"
      ]
     },
     "execution_count": 208,
     "metadata": {},
     "output_type": "execute_result"
    }
   ],
   "source": [
    "\n",
    "\n",
    "hide_toggle(\"Toggle the solution\")"
   ]
  },
  {
   "cell_type": "code",
   "execution_count": 209,
   "metadata": {},
   "outputs": [],
   "source": [
    "# Your solution"
   ]
  },
  {
   "cell_type": "markdown",
   "metadata": {},
   "source": [
    "---\n",
    "## [70. Climbing Stairs (Easy)](https://leetcode.com/problems/climbing-stairs/description)\n",
    "<p>You are climbing a stair case. It takes <em>n</em> steps to reach to the top.</p>\n",
    "<p>Each time you can either climb 1 or 2 steps. In how many distinct ways can you climb to the top?</p>\n",
    "<p><strong>Note:</strong> Given <em>n</em> will be a positive integer.</p>\n",
    "<p><strong>Example 1:</strong></p>\n",
    "<div class=\"example\"><strong>Input:</strong> 2\n",
    "<strong>Output:</strong> 2\n",
    "<strong>Explanation:</strong> There are two ways to climb to the top.\n",
    "1. 1 step + 1 step\n",
    "2. 2 steps</div>\n",
    "<p><strong>Example 2:</strong></p>\n",
    "<div class=\"example\"><strong>Input:</strong> 3\n",
    "<strong>Output:</strong> 3\n",
    "<strong>Explanation:</strong> There are three ways to climb to the top.\n",
    "1. 1 step + 1 step + 1 step\n",
    "2. 1 step + 2 steps\n",
    "3. 2 steps + 1 step</div>\n"
   ]
  },
  {
   "cell_type": "code",
   "execution_count": 210,
   "metadata": {},
   "outputs": [
    {
     "name": "stdout",
     "output_type": "stream",
     "text": [
      "2\n"
     ]
    },
    {
     "data": {
      "text/html": [
       "\n",
       "<style>\n",
       "    div.example {\n",
       "        display: block;\n",
       "        padding: 9.5px;\n",
       "        margin: 0 0 10px;\n",
       "        white-space: pre;\n",
       "        background-color: #ffffe0;\n",
       "        border: 1px solid #ccc;\n",
       "        border-radius: 4px;\n",
       "    }\n",
       "\n",
       "    code {\n",
       "        color: #c7254e !important;\n",
       "        background-color: #f9f2f4 !important;\n",
       "    }\n",
       "\n",
       "    div.example code {\n",
       "        background-color: #ffffe0 !important;\n",
       "    }\n",
       "\n",
       "    hr {\n",
       "        border-top: 2px solid #000;\n",
       "    }\n",
       "</style>\n",
       "\n",
       "\n",
       "        <script>\n",
       "            function code_toggle_2595260302922693788() {\n",
       "                $('div.cell.code_cell.rendered.selected').find('div.input').toggle();\n",
       "                var outputSubareas = $('div.cell.code_cell.rendered.selected').find('div.output_subarea');\n",
       "                if (outputSubareas.length > 1) {\n",
       "                    outputSubareas.first().toggle()\n",
       "                }\n",
       "            }\n",
       "            \n",
       "        </script>\n",
       "        <form action=\"javascript:code_toggle_2595260302922693788()\"><input type=\"submit\" value=\"Toggle the solution\"></form>\n",
       "    "
      ],
      "text/plain": [
       "<IPython.core.display.HTML object>"
      ]
     },
     "execution_count": 210,
     "metadata": {},
     "output_type": "execute_result"
    }
   ],
   "source": [
    "# Time:  O(n)\n",
    "# Space: O(1)\n",
    "\n",
    "\n",
    "class Solution:\n",
    "    \"\"\"\n",
    "    :type n: int\n",
    "    :rtype: int\n",
    "    \"\"\"\n",
    "    def climbStairs(self, n):\n",
    "        prev, current = 0, 1\n",
    "        for i in xrange(n):\n",
    "            prev, current = current, prev + current,\n",
    "        return current\n",
    "\n",
    "    # Time:  O(2^n)\n",
    "    # Space: O(n)\n",
    "    def climbStairs1(self, n):\n",
    "        if n == 1:\n",
    "            return 1\n",
    "        if n == 2:\n",
    "            return 2\n",
    "        return self.climbStairs(n - 1) + self.climbStairs(n - 2)\n",
    "\n",
    "if __name__ == \"__main__\":\n",
    "    result = Solution().climbStairs(2)\n",
    "    print(result)\n",
    "\n",
    "\n",
    "hide_toggle(\"Toggle the solution\")"
   ]
  },
  {
   "cell_type": "code",
   "execution_count": 211,
   "metadata": {},
   "outputs": [],
   "source": [
    "# Your solution"
   ]
  },
  {
   "cell_type": "markdown",
   "metadata": {},
   "source": [
    "---\n",
    "## [83. Remove Duplicates from Sorted List (Easy)](https://leetcode.com/problems/remove-duplicates-from-sorted-list/description)\n",
    "<p>Given a sorted linked list, delete all duplicates such that each element appear only <em>once</em>.</p>\n",
    "<p><strong>Example 1:</strong></p>\n",
    "<div class=\"example\"><strong>Input:</strong> 1-&gt;1-&gt;2\n",
    "<strong>Output:</strong> 1-&gt;2</div>\n",
    "<p><strong>Example 2:</strong></p>\n",
    "<div class=\"example\"><strong>Input:</strong> 1-&gt;1-&gt;2-&gt;3-&gt;3\n",
    "<strong>Output:</strong> 1-&gt;2-&gt;3</div>"
   ]
  },
  {
   "cell_type": "code",
   "execution_count": 212,
   "metadata": {},
   "outputs": [
    {
     "name": "stdout",
     "output_type": "stream",
     "text": [
      "<__main__.ListNode object at 0x11086f400>\n"
     ]
    },
    {
     "data": {
      "text/html": [
       "\n",
       "<style>\n",
       "    div.example {\n",
       "        display: block;\n",
       "        padding: 9.5px;\n",
       "        margin: 0 0 10px;\n",
       "        white-space: pre;\n",
       "        background-color: #ffffe0;\n",
       "        border: 1px solid #ccc;\n",
       "        border-radius: 4px;\n",
       "    }\n",
       "\n",
       "    code {\n",
       "        color: #c7254e !important;\n",
       "        background-color: #f9f2f4 !important;\n",
       "    }\n",
       "\n",
       "    div.example code {\n",
       "        background-color: #ffffe0 !important;\n",
       "    }\n",
       "\n",
       "    hr {\n",
       "        border-top: 2px solid #000;\n",
       "    }\n",
       "</style>\n",
       "\n",
       "\n",
       "        <script>\n",
       "            function code_toggle_2717133639298405841() {\n",
       "                $('div.cell.code_cell.rendered.selected').find('div.input').toggle();\n",
       "                var outputSubareas = $('div.cell.code_cell.rendered.selected').find('div.output_subarea');\n",
       "                if (outputSubareas.length > 1) {\n",
       "                    outputSubareas.first().toggle()\n",
       "                }\n",
       "            }\n",
       "            \n",
       "        </script>\n",
       "        <form action=\"javascript:code_toggle_2717133639298405841()\"><input type=\"submit\" value=\"Toggle the solution\"></form>\n",
       "    "
      ],
      "text/plain": [
       "<IPython.core.display.HTML object>"
      ]
     },
     "execution_count": 212,
     "metadata": {},
     "output_type": "execute_result"
    }
   ],
   "source": [
    "# Time:  O(n)\n",
    "# Space: O(1)\n",
    "\n",
    "\n",
    "\n",
    "class ListNode(object):\n",
    "    def __init__(self, x):\n",
    "        self.val = x\n",
    "        self.next = None\n",
    "\n",
    "\n",
    "class Solution(object):\n",
    "    def deleteDuplicates(self, head):\n",
    "        \"\"\"\n",
    "        :type head: ListNode\n",
    "        :rtype: ListNode\n",
    "        \"\"\"\n",
    "        cur = head\n",
    "        while cur:\n",
    "            runner = cur.next\n",
    "            while runner and runner.val == cur.val:\n",
    "                runner = runner.next\n",
    "            cur.next = runner\n",
    "            cur = runner\n",
    "        return head\n",
    "\n",
    "    def deleteDuplicates2(self, head):\n",
    "        \"\"\"\n",
    "        :type head: ListNode\n",
    "        :rtype: ListNode\n",
    "        \"\"\"\n",
    "        if not head: return head\n",
    "        if head.next:\n",
    "            if head.val == head.next.val:\n",
    "                head = self.deleteDuplicates(head.next)\n",
    "            else:\n",
    "                head.next = self.deleteDuplicates(head.next)\n",
    "        return head\n",
    "\n",
    "\n",
    "if __name__ == \"__main__\":\n",
    "    head, head.next, head.next.next = ListNode(1), ListNode(1), ListNode(2)\n",
    "    head.next.next.next, head.next.next.next.next = ListNode(3), ListNode(3)\n",
    "    print(Solution().deleteDuplicates(head))\n",
    "\n",
    "\n",
    "hide_toggle(\"Toggle the solution\")"
   ]
  },
  {
   "cell_type": "code",
   "execution_count": 213,
   "metadata": {},
   "outputs": [],
   "source": [
    "# Your solution"
   ]
  },
  {
   "cell_type": "markdown",
   "metadata": {},
   "source": [
    "---\n",
    "## [88. Merge Sorted Array (Easy)](https://leetcode.com/problems/merge-sorted-array/description)\n",
    "<p>Given two sorted integer arrays <em>nums1</em> and <em>nums2</em>, merge <em>nums2</em> into <em>nums1</em> as one sorted array.</p>\n",
    "<p><strong>Note:</strong></p>\n",
    "<ul>\n",
    "<li>The number of elements initialized in <em>nums1</em> and <em>nums2</em> are <em>m</em> and <em>n</em> respectively.</li>\n",
    "<li>You may assume that <em>nums1</em> has enough space (size that is greater or equal to <em>m</em> + <em>n</em>) to hold additional elements from <em>nums2</em>.</li>\n",
    "</ul>\n",
    "<p><strong>Example:</strong></p>\n",
    "<div class=\"example\"><strong>Input:</strong>\n",
    "nums1 = [1,2,3,0,0,0], m = 3\n",
    "nums2 = [2,5,6],       n = 3\n",
    "\n",
    "<strong>Output:</strong> [1,2,2,3,5,6]</div>\n"
   ]
  },
  {
   "cell_type": "code",
   "execution_count": 214,
   "metadata": {},
   "outputs": [
    {
     "name": "stdout",
     "output_type": "stream",
     "text": [
      "[1, 2, 3, 4, 5, 6, 7]\n"
     ]
    },
    {
     "data": {
      "text/html": [
       "\n",
       "<style>\n",
       "    div.example {\n",
       "        display: block;\n",
       "        padding: 9.5px;\n",
       "        margin: 0 0 10px;\n",
       "        white-space: pre;\n",
       "        background-color: #ffffe0;\n",
       "        border: 1px solid #ccc;\n",
       "        border-radius: 4px;\n",
       "    }\n",
       "\n",
       "    code {\n",
       "        color: #c7254e !important;\n",
       "        background-color: #f9f2f4 !important;\n",
       "    }\n",
       "\n",
       "    div.example code {\n",
       "        background-color: #ffffe0 !important;\n",
       "    }\n",
       "\n",
       "    hr {\n",
       "        border-top: 2px solid #000;\n",
       "    }\n",
       "</style>\n",
       "\n",
       "\n",
       "        <script>\n",
       "            function code_toggle_16269256947957730851() {\n",
       "                $('div.cell.code_cell.rendered.selected').find('div.input').toggle();\n",
       "                var outputSubareas = $('div.cell.code_cell.rendered.selected').find('div.output_subarea');\n",
       "                if (outputSubareas.length > 1) {\n",
       "                    outputSubareas.first().toggle()\n",
       "                }\n",
       "            }\n",
       "            \n",
       "        </script>\n",
       "        <form action=\"javascript:code_toggle_16269256947957730851()\"><input type=\"submit\" value=\"Toggle the solution\"></form>\n",
       "    "
      ],
      "text/plain": [
       "<IPython.core.display.HTML object>"
      ]
     },
     "execution_count": 214,
     "metadata": {},
     "output_type": "execute_result"
    }
   ],
   "source": [
    "# Time:  O(n)\n",
    "# Space: O(1)\n",
    "\n",
    "class Solution:\n",
    "    # @param A  a list of integers\n",
    "    # @param m  an integer, length of A\n",
    "    # @param B  a list of integers\n",
    "    # @param n  an integer, length of B\n",
    "    # @return nothing\n",
    "    def merge(self, A, m, B, n):\n",
    "        last, i, j = m + n - 1, m - 1, n - 1\n",
    "\n",
    "        while i >= 0 and j >= 0:\n",
    "            if A[i] > B[j]:\n",
    "                A[last] = A[i]\n",
    "                last, i = last - 1, i - 1\n",
    "            else:\n",
    "                A[last] = B[j]\n",
    "                last, j = last - 1, j - 1\n",
    "\n",
    "        while j >= 0:\n",
    "                A[last] = B[j]\n",
    "                last, j = last - 1, j - 1\n",
    "\n",
    "if __name__ == \"__main__\":\n",
    "    A = [1, 3, 5, 0, 0, 0, 0]\n",
    "    B = [2, 4, 6, 7]\n",
    "    Solution().merge(A, 3, B, 4)\n",
    "    print(A)\n",
    "\n",
    "\n",
    "# Time:  O(n)\n",
    "# Space: O(n)\n",
    "class Solution2:\n",
    "    def merge(self, nums1, m, nums2, n):\n",
    "        \"\"\"\n",
    "        :type nums1: List[int]\n",
    "        :type m: int\n",
    "        :type nums2: List[int]\n",
    "        :type n: int\n",
    "        :rtype: void Do not return anything, modify nums1 in-place instead.\n",
    "        \"\"\"\n",
    "        while m > 0 and n > 0:\n",
    "            if nums1[m-1] > nums2[n-1]:\n",
    "                nums1[m+n-1] = nums1[m-1]\n",
    "                m -= 1\n",
    "            else:\n",
    "                nums1[m+n-1] = nums2[n-1]\n",
    "                n -= 1\n",
    "        if n > 0:\n",
    "            nums1[:n] = nums2[:n]  # Space: O(n),\n",
    "                                   # Reference:\n",
    "                                   # - https://stackoverflow.com/questions/4948293/python-slice-assignment-memory-usage\n",
    "                                   # - https://stackoverflow.com/questions/10623302/how-assignment-works-with-python-list-slice\n",
    "\n",
    "\n",
    "hide_toggle(\"Toggle the solution\")"
   ]
  },
  {
   "cell_type": "code",
   "execution_count": 215,
   "metadata": {},
   "outputs": [],
   "source": [
    "# Your solution"
   ]
  },
  {
   "cell_type": "markdown",
   "metadata": {},
   "source": [
    "---\n",
    "## [100. Same Tree (Easy)](https://leetcode.com/problems/same-tree/description)\n",
    "<p>Given two binary trees, write a function to check if they are the same or not.</p>\n",
    "<p>Two binary trees are considered the same if they are structurally identical and the nodes have the same value.</p>\n",
    "<p><strong>Example 1:</strong></p>\n",
    "<div class=\"example\"><strong>Input:</strong>     1         1\n",
    "          / \\       / \\\n",
    "         2   3     2   3\n",
    "\n",
    "        [1,2,3],   [1,2,3]\n",
    "\n",
    "<strong>Output:</strong> true</div>\n",
    "<p><strong>Example 2:</strong></p>\n",
    "<div class=\"example\"><strong>Input:</strong>     1         1\n",
    "          /           \\\n",
    "         2             2\n",
    "\n",
    "        [1,2],     [1,null,2]\n",
    "\n",
    "<strong>Output:</strong> false</div>\n",
    "<p><strong>Example 3:</strong></p>\n",
    "<div class=\"example\"><strong>Input:</strong>     1         1\n",
    "          / \\       / \\\n",
    "         2   1     1   2\n",
    "\n",
    "        [1,2,1],   [1,1,2]\n",
    "\n",
    "<strong>Output:</strong> false</div>\n"
   ]
  },
  {
   "cell_type": "code",
   "execution_count": 216,
   "metadata": {},
   "outputs": [
    {
     "name": "stdout",
     "output_type": "stream",
     "text": [
      "True\n"
     ]
    },
    {
     "data": {
      "text/html": [
       "\n",
       "<style>\n",
       "    div.example {\n",
       "        display: block;\n",
       "        padding: 9.5px;\n",
       "        margin: 0 0 10px;\n",
       "        white-space: pre;\n",
       "        background-color: #ffffe0;\n",
       "        border: 1px solid #ccc;\n",
       "        border-radius: 4px;\n",
       "    }\n",
       "\n",
       "    code {\n",
       "        color: #c7254e !important;\n",
       "        background-color: #f9f2f4 !important;\n",
       "    }\n",
       "\n",
       "    div.example code {\n",
       "        background-color: #ffffe0 !important;\n",
       "    }\n",
       "\n",
       "    hr {\n",
       "        border-top: 2px solid #000;\n",
       "    }\n",
       "</style>\n",
       "\n",
       "\n",
       "        <script>\n",
       "            function code_toggle_15824756300581974394() {\n",
       "                $('div.cell.code_cell.rendered.selected').find('div.input').toggle();\n",
       "                var outputSubareas = $('div.cell.code_cell.rendered.selected').find('div.output_subarea');\n",
       "                if (outputSubareas.length > 1) {\n",
       "                    outputSubareas.first().toggle()\n",
       "                }\n",
       "            }\n",
       "            \n",
       "        </script>\n",
       "        <form action=\"javascript:code_toggle_15824756300581974394()\"><input type=\"submit\" value=\"Toggle the solution\"></form>\n",
       "    "
      ],
      "text/plain": [
       "<IPython.core.display.HTML object>"
      ]
     },
     "execution_count": 216,
     "metadata": {},
     "output_type": "execute_result"
    }
   ],
   "source": [
    "# Time:  O(n)\n",
    "# Space: O(h), h is height of binary tree\n",
    "\n",
    "class TreeNode:\n",
    "    def __init__(self, x):\n",
    "        self.val = x\n",
    "        self.left = None\n",
    "        self.right = None\n",
    "\n",
    "class Solution:\n",
    "    # @param p, a tree node\n",
    "    # @param q, a tree node\n",
    "    # @return a boolean\n",
    "    def isSameTree(self, p, q):\n",
    "        if p is None and q is None:\n",
    "            return True\n",
    "\n",
    "        if p is not None and q is not None:\n",
    "            return p.val == q.val and self.isSameTree(p.left, q.left) and self.isSameTree(p.right, q.right)\n",
    "\n",
    "        return False\n",
    "\n",
    "if __name__ == \"__main__\":\n",
    "    root1, root1.left, root1.right = TreeNode(1), TreeNode(2), TreeNode(3)\n",
    "    root2, root2.left, root2.right = TreeNode(1), TreeNode(2), TreeNode(3)\n",
    "    print(Solution().isSameTree(root1, root2))\n",
    "\n",
    "\n",
    "hide_toggle(\"Toggle the solution\")"
   ]
  },
  {
   "cell_type": "code",
   "execution_count": 217,
   "metadata": {},
   "outputs": [],
   "source": [
    "# Your solution"
   ]
  },
  {
   "cell_type": "code",
   "execution_count": 218,
   "metadata": {},
   "outputs": [
    {
     "data": {
      "text/html": [
       "\n",
       "<script>\n",
       "    document.querySelectorAll('input').forEach(function(button) {\n",
       "        button.click();\n",
       "    });\n",
       "</script>\n"
      ],
      "text/plain": [
       "<IPython.core.display.HTML object>"
      ]
     },
     "execution_count": 218,
     "metadata": {},
     "output_type": "execute_result"
    }
   ],
   "source": [
    "HTML('''\n",
    "<script>\n",
    "    document.querySelectorAll('input').forEach(function(button) {\n",
    "        button.click();\n",
    "    });\n",
    "</script>\n",
    "''')"
   ]
  }
 ],
 "metadata": {
  "kernelspec": {
   "display_name": "Python [conda env:machine-learning]",
   "language": "python",
   "name": "conda-env-machine-learning-py"
  },
  "language_info": {
   "codemirror_mode": {
    "name": "ipython",
    "version": 3
   },
   "file_extension": ".py",
   "mimetype": "text/x-python",
   "name": "python",
   "nbconvert_exporter": "python",
   "pygments_lexer": "ipython3",
   "version": "3.6.6"
  }
 },
 "nbformat": 4,
 "nbformat_minor": 2
}
