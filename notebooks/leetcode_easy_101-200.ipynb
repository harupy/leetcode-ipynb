{
 "cells": [
  {
   "cell_type": "markdown",
   "metadata": {},
   "source": [
    "# LeetCode"
   ]
  },
  {
   "cell_type": "code",
   "execution_count": 1,
   "metadata": {},
   "outputs": [
    {
     "data": {
      "text/html": [
       "\n",
       "<style>\n",
       "    div.example {\n",
       "        display: block;\n",
       "        padding: 9.5px;\n",
       "        margin: 0 0 10px;\n",
       "        white-space: pre;\n",
       "        background-color: #ffffe0;\n",
       "        border: 1px solid #ccc;\n",
       "        border-radius: 4px;\n",
       "    }\n",
       "\n",
       "    code {\n",
       "        color: #c7254e !important;\n",
       "        background-color: #f9f2f4 !important;\n",
       "    }\n",
       "\n",
       "    div.example code {\n",
       "        background-color: #ffffe0 !important;\n",
       "    }\n",
       "\n",
       "    hr {\n",
       "        border-top: 2px solid #000;\n",
       "    }\n",
       "</style>\n"
      ],
      "text/plain": [
       "<IPython.core.display.HTML object>"
      ]
     },
     "execution_count": 1,
     "metadata": {},
     "output_type": "execute_result"
    }
   ],
   "source": [
    "from IPython.display import HTML\n",
    "from __future__ import print_function\n",
    "xrange = range\n",
    "\n",
    "with open('style.css', 'w') as f:\n",
    "    HTML(\n",
    "    \"\"\"\n",
    "    <style>\n",
    "    </style>\n",
    "    \"\"\"\n",
    "    )\n",
    "css = \n",
    "\n",
    "HTML(css)"
   ]
  },
  {
   "cell_type": "markdown",
   "metadata": {},
   "source": [
    "---\n",
    "## [101. Symmetric Tree (Easy)](https://leetcode.com/problems/symmetric-tree/description)\n",
    "<p>Given a binary tree, check whether it is a mirror of itself (ie, symmetric around its center).</p>\n",
    "<p>\n",
    "For example, this binary tree <code>[1,2,2,3,4,4,3]</code> is symmetric:\n",
    "</p><div class=\"example\">    1\n",
    "   / \\\n",
    "  2   2\n",
    " / \\ / \\\n",
    "3  4 4  3</div>\n",
    "<p></p>\n",
    "<p>\n",
    "But the following <code>[1,2,2,null,3,null,3]</code>  is not:<br/>\n",
    "</p><div class=\"example\">    1\n",
    "   / \\\n",
    "  2   2\n",
    "   \\   \\\n",
    "   3    3</div>\n",
    "<p></p>\n",
    "<p>\n",
    "<b>Note:</b><br/>\n",
    "Bonus points if you could solve it both recursively and iteratively.\n",
    "</p>"
   ]
  },
  {
   "cell_type": "code",
   "execution_count": 2,
   "metadata": {},
   "outputs": [],
   "source": [
    "# Definition for a binary tree node.\n",
    "# class TreeNode(object):\n",
    "#     def __init__(self, x):\n",
    "#         self.val = x\n",
    "#         self.left = None\n",
    "#         self.right = None\n",
    "\n",
    "class Solution(object):\n",
    "    def isSymmetric(self, root):\n",
    "        \"\"\"\n",
    "        :type root: TreeNode\n",
    "        :rtype: bool\n",
    "        \"\"\""
   ]
  },
  {
   "cell_type": "markdown",
   "metadata": {},
   "source": [
    "---\n",
    "## [104. Maximum Depth of Binary Tree (Easy)](https://leetcode.com/problems/maximum-depth-of-binary-tree/description)\n",
    "<p>Given a binary tree, find its maximum depth.</p>\n",
    "<p>The maximum depth is the number of nodes along the longest path from the root node down to the farthest leaf node.</p>\n",
    "<p><strong>Note:</strong> A leaf is a node with no children.</p>\n",
    "<p><strong>Example:</strong></p>\n",
    "<p>Given binary tree <code>[3,9,20,null,null,15,7]</code>,</p>\n",
    "<div class=\"example\">    3\n",
    "   / \\\n",
    "  9  20\n",
    "    /  \\\n",
    "   15   7</div>\n",
    "<p>return its depth = 3.</p>\n"
   ]
  },
  {
   "cell_type": "code",
   "execution_count": 3,
   "metadata": {},
   "outputs": [],
   "source": [
    "# Definition for a binary tree node.\n",
    "# class TreeNode(object):\n",
    "#     def __init__(self, x):\n",
    "#         self.val = x\n",
    "#         self.left = None\n",
    "#         self.right = None\n",
    "\n",
    "class Solution(object):\n",
    "    def maxDepth(self, root):\n",
    "        \"\"\"\n",
    "        :type root: TreeNode\n",
    "        :rtype: int\n",
    "        \"\"\""
   ]
  },
  {
   "cell_type": "markdown",
   "metadata": {},
   "source": [
    "---\n",
    "## [107. Binary Tree Level Order Traversal II (Easy)](https://leetcode.com/problems/binary-tree-level-order-traversal-ii/description)\n",
    "<p>Given a binary tree, return the <i>bottom-up level order</i> traversal of its nodes' values. (ie, from left to right, level by level from leaf to root).</p>\n",
    "<p>\n",
    "For example:<br/>\n",
    "Given binary tree <code>[3,9,20,null,null,15,7]</code>,<br/>\n",
    "</p><div class=\"example\">    3\n",
    "   / \\\n",
    "  9  20\n",
    "    /  \\\n",
    "   15   7</div>\n",
    "<p></p>\n",
    "<p>\n",
    "return its bottom-up level order traversal as:<br/>\n",
    "</p><div class=\"example\">[\n",
    "  [15,7],\n",
    "  [9,20],\n",
    "  [3]\n",
    "]</div>\n",
    "<p></p>"
   ]
  },
  {
   "cell_type": "code",
   "execution_count": 4,
   "metadata": {},
   "outputs": [],
   "source": [
    "# Definition for a binary tree node.\n",
    "# class TreeNode(object):\n",
    "#     def __init__(self, x):\n",
    "#         self.val = x\n",
    "#         self.left = None\n",
    "#         self.right = None\n",
    "\n",
    "class Solution(object):\n",
    "    def levelOrderBottom(self, root):\n",
    "        \"\"\"\n",
    "        :type root: TreeNode\n",
    "        :rtype: List[List[int]]\n",
    "        \"\"\""
   ]
  },
  {
   "cell_type": "markdown",
   "metadata": {},
   "source": [
    "---\n",
    "## [108. Convert Sorted Array to Binary Search Tree (Easy)](https://leetcode.com/problems/convert-sorted-array-to-binary-search-tree/description)\n",
    "<p>Given an array where elements are sorted in ascending order, convert it to a height balanced BST.</p>\n",
    "<p>For this problem, a height-balanced binary tree is defined as a binary tree in which the depth of the two subtrees of <em>every</em> node never differ by more than 1.</p>\n",
    "<p><strong>Example:</strong></p>\n",
    "<div class=\"example\">Given the sorted array: [-10,-3,0,5,9],\n",
    "\n",
    "One possible answer is: [0,-3,9,-10,null,5], which represents the following height balanced BST:\n",
    "\n",
    "      0\n",
    "     / \\\n",
    "   -3   9\n",
    "   /   /\n",
    " -10  5</div>\n"
   ]
  },
  {
   "cell_type": "code",
   "execution_count": 5,
   "metadata": {},
   "outputs": [],
   "source": [
    "# Definition for a binary tree node.\n",
    "# class TreeNode(object):\n",
    "#     def __init__(self, x):\n",
    "#         self.val = x\n",
    "#         self.left = None\n",
    "#         self.right = None\n",
    "\n",
    "class Solution(object):\n",
    "    def sortedArrayToBST(self, nums):\n",
    "        \"\"\"\n",
    "        :type nums: List[int]\n",
    "        :rtype: TreeNode\n",
    "        \"\"\""
   ]
  },
  {
   "cell_type": "markdown",
   "metadata": {},
   "source": [
    "---\n",
    "## [110. Balanced Binary Tree (Easy)](https://leetcode.com/problems/balanced-binary-tree/description)\n",
    "<p>Given a binary tree, determine if it is height-balanced.</p>\n",
    "<p>For this problem, a height-balanced binary tree is defined as:</p>\n",
    "<blockquote>\n",
    "<p>a binary tree in which the depth of the two subtrees of <em>every</em> node never differ by more than 1.</p>\n",
    "</blockquote>\n",
    "<p><strong>Example 1:</strong></p>\n",
    "<p>Given the following tree <code>[3,9,20,null,null,15,7]</code>:</p>\n",
    "<div class=\"example\">    3\n",
    "   / \\\n",
    "  9  20\n",
    "    /  \\\n",
    "   15   7</div>\n",
    "<p>Return true.<br/>\n",
    "<br/>\n",
    "<strong>Example 2:</strong></p>\n",
    "<p>Given the following tree <code>[1,2,2,3,3,null,null,4,4]</code>:</p>\n",
    "<div class=\"example\">       1\n",
    "      / \\\n",
    "     2   2\n",
    "    / \\\n",
    "   3   3\n",
    "  / \\\n",
    " 4   4</div>\n",
    "<p>Return false.</p>\n"
   ]
  },
  {
   "cell_type": "code",
   "execution_count": 6,
   "metadata": {},
   "outputs": [],
   "source": [
    "# Definition for a binary tree node.\n",
    "# class TreeNode(object):\n",
    "#     def __init__(self, x):\n",
    "#         self.val = x\n",
    "#         self.left = None\n",
    "#         self.right = None\n",
    "\n",
    "class Solution(object):\n",
    "    def isBalanced(self, root):\n",
    "        \"\"\"\n",
    "        :type root: TreeNode\n",
    "        :rtype: bool\n",
    "        \"\"\""
   ]
  },
  {
   "cell_type": "markdown",
   "metadata": {},
   "source": [
    "---\n",
    "## [111. Minimum Depth of Binary Tree (Easy)](https://leetcode.com/problems/minimum-depth-of-binary-tree/description)\n",
    "<p>Given a binary tree, find its minimum depth.</p>\n",
    "<p>The minimum depth is the number of nodes along the shortest path from the root node down to the nearest leaf node.</p>\n",
    "<p><strong>Note:</strong> A leaf is a node with no children.</p>\n",
    "<p><strong>Example:</strong></p>\n",
    "<p>Given binary tree <code>[3,9,20,null,null,15,7]</code>,</p>\n",
    "<div class=\"example\">    3\n",
    "   / \\\n",
    "  9  20\n",
    "    /  \\\n",
    "   15   7</div>\n",
    "<p>return its minimum depth = 2.</p>\n"
   ]
  },
  {
   "cell_type": "code",
   "execution_count": 7,
   "metadata": {},
   "outputs": [],
   "source": [
    "# Definition for a binary tree node.\n",
    "# class TreeNode(object):\n",
    "#     def __init__(self, x):\n",
    "#         self.val = x\n",
    "#         self.left = None\n",
    "#         self.right = None\n",
    "\n",
    "class Solution(object):\n",
    "    def minDepth(self, root):\n",
    "        \"\"\"\n",
    "        :type root: TreeNode\n",
    "        :rtype: int\n",
    "        \"\"\""
   ]
  },
  {
   "cell_type": "markdown",
   "metadata": {},
   "source": [
    "---\n",
    "## [112. Path Sum (Easy)](https://leetcode.com/problems/path-sum/description)\n",
    "<p>Given a binary tree and a sum, determine if the tree has a root-to-leaf path such that adding up all the values along the path equals the given sum.</p>\n",
    "<p><strong>Note:</strong> A leaf is a node with no children.</p>\n",
    "<p><strong>Example:</strong></p>\n",
    "<p>Given the below binary tree and <code>sum = 22</code>,</p>\n",
    "<div class=\"example\">      <strong>5</strong>\n",
    "     <strong>/</strong> \\\n",
    "    <strong>4</strong>   8\n",
    "   <strong>/</strong>   / \\\n",
    "  <strong>11</strong>  13  4\n",
    " /  <strong>\\</strong>      \\\n",
    "7    <strong>2</strong>      1</div>\n",
    "<p>return true, as there exist a root-to-leaf path <code>5-&gt;4-&gt;11-&gt;2</code> which sum is 22.</p>\n"
   ]
  },
  {
   "cell_type": "code",
   "execution_count": 8,
   "metadata": {},
   "outputs": [],
   "source": [
    "# Definition for a binary tree node.\n",
    "# class TreeNode(object):\n",
    "#     def __init__(self, x):\n",
    "#         self.val = x\n",
    "#         self.left = None\n",
    "#         self.right = None\n",
    "\n",
    "class Solution(object):\n",
    "    def hasPathSum(self, root, sum):\n",
    "        \"\"\"\n",
    "        :type root: TreeNode\n",
    "        :type sum: int\n",
    "        :rtype: bool\n",
    "        \"\"\""
   ]
  },
  {
   "cell_type": "markdown",
   "metadata": {},
   "source": [
    "---\n",
    "## [118. Pascal's Triangle (Easy)](https://leetcode.com/problems/pascals-triangle/description)\n",
    "<p>Given a non-negative integer <em>numRows</em>, generate the first <em>numRows</em> of Pascal's triangle.</p>\n",
    "<p><img alt=\"\" src=\"https://upload.wikimedia.org/wikipedia/commons/0/0d/PascalTriangleAnimated2.gif\" style=\"height:240px; width:260px\"/><br/>\n",
    "<small>In Pascal's triangle, each number is the sum of the two numbers directly above it.</small></p>\n",
    "<p><strong>Example:</strong></p>\n",
    "<div class=\"example\"><strong>Input:</strong> 5\n",
    "<strong>Output:</strong>\n",
    "[\n",
    "     [1],\n",
    "    [1,1],\n",
    "   [1,2,1],\n",
    "  [1,3,3,1],\n",
    " [1,4,6,4,1]\n",
    "]</div>\n"
   ]
  },
  {
   "cell_type": "code",
   "execution_count": 9,
   "metadata": {},
   "outputs": [],
   "source": [
    "class Solution(object):\n",
    "    def generate(self, numRows):\n",
    "        \"\"\"\n",
    "        :type numRows: int\n",
    "        :rtype: List[List[int]]\n",
    "        \"\"\""
   ]
  },
  {
   "cell_type": "markdown",
   "metadata": {},
   "source": [
    "---\n",
    "## [119. Pascal's Triangle II (Easy)](https://leetcode.com/problems/pascals-triangle-ii/description)\n",
    "<p>Given a non-negative index <em>k</em> where <em>k</em> ≤ 33, return the <em>k</em><sup>th</sup> index row of the Pascal's triangle.</p>\n",
    "<p>Note that the row index starts from 0.</p>\n",
    "<p><img alt=\"\" src=\"https://upload.wikimedia.org/wikipedia/commons/0/0d/PascalTriangleAnimated2.gif\"/><br/>\n",
    "<small>In Pascal's triangle, each number is the sum of the two numbers directly above it.</small></p>\n",
    "<p><strong>Example:</strong></p>\n",
    "<div class=\"example\"><strong>Input:</strong> 3\n",
    "<strong>Output:</strong> [1,3,3,1]</div>\n",
    "<p><strong>Follow up:</strong></p>\n",
    "<p>Could you optimize your algorithm to use only <em>O</em>(<em>k</em>) extra space?</p>\n"
   ]
  },
  {
   "cell_type": "code",
   "execution_count": 10,
   "metadata": {},
   "outputs": [],
   "source": [
    "class Solution(object):\n",
    "    def getRow(self, rowIndex):\n",
    "        \"\"\"\n",
    "        :type rowIndex: int\n",
    "        :rtype: List[int]\n",
    "        \"\"\""
   ]
  },
  {
   "cell_type": "markdown",
   "metadata": {},
   "source": [
    "---\n",
    "## [121. Best Time to Buy and Sell Stock (Easy)](https://leetcode.com/problems/best-time-to-buy-and-sell-stock/description)\n",
    "<p>Say you have an array for which the <em>i</em><sup>th</sup> element is the price of a given stock on day <em>i</em>.</p>\n",
    "<p>If you were only permitted to complete at most one transaction (i.e., buy one and sell one share of the stock), design an algorithm to find the maximum profit.</p>\n",
    "<p>Note that you cannot sell a stock before you buy one.</p>\n",
    "<p><strong>Example 1:</strong></p>\n",
    "<div class=\"example\"><strong>Input:</strong> [7,1,5,3,6,4]\n",
    "<strong>Output:</strong> 5\n",
    "<strong>Explanation:</strong> Buy on day 2 (price = 1) and sell on day 5 (price = 6), profit = 6-1 = 5.\n",
    "             Not 7-1 = 6, as selling price needs to be larger than buying price.</div>\n",
    "<p><strong>Example 2:</strong></p>\n",
    "<div class=\"example\"><strong>Input:</strong> [7,6,4,3,1]\n",
    "<strong>Output:</strong> 0\n",
    "<strong>Explanation:</strong> In this case, no transaction is done, i.e. max profit = 0.</div>\n"
   ]
  },
  {
   "cell_type": "code",
   "execution_count": 11,
   "metadata": {},
   "outputs": [],
   "source": [
    "class Solution(object):\n",
    "    def maxProfit(self, prices):\n",
    "        \"\"\"\n",
    "        :type prices: List[int]\n",
    "        :rtype: int\n",
    "        \"\"\""
   ]
  },
  {
   "cell_type": "markdown",
   "metadata": {},
   "source": [
    "---\n",
    "## [122. Best Time to Buy and Sell Stock II (Easy)](https://leetcode.com/problems/best-time-to-buy-and-sell-stock-ii/description)\n",
    "<p>Say you have an array for which the <em>i</em><sup>th</sup> element is the price of a given stock on day <em>i</em>.</p>\n",
    "<p>Design an algorithm to find the maximum profit. You may complete as many transactions as you like (i.e., buy one and sell one share of the stock multiple times).</p>\n",
    "<p><strong>Note:</strong> You may not engage in multiple transactions at the same time (i.e., you must sell the stock before you buy again).</p>\n",
    "<p><strong>Example 1:</strong></p>\n",
    "<div class=\"example\"><strong>Input:</strong> [7,1,5,3,6,4]\n",
    "<strong>Output:</strong> 7\n",
    "<strong>Explanation:</strong> Buy on day 2 (price = 1) and sell on day 3 (price = 5), profit = 5-1 = 4.\n",
    "             Then buy on day 4 (price = 3) and sell on day 5 (price = 6), profit = 6-3 = 3.</div>\n",
    "<p><strong>Example 2:</strong></p>\n",
    "<div class=\"example\"><strong>Input:</strong> [1,2,3,4,5]\n",
    "<strong>Output:</strong> 4\n",
    "<strong>Explanation:</strong> Buy on day 1 (price = 1) and sell on day 5 (price = 5), profit = 5-1 = 4.\n",
    "             Note that you cannot buy on day 1, buy on day 2 and sell them later, as you are\n",
    "             engaging multiple transactions at the same time. You must sell before buying again.</div>\n",
    "<p><strong>Example 3:</strong></p>\n",
    "<div class=\"example\"><strong>Input:</strong> [7,6,4,3,1]\n",
    "<strong>Output:</strong> 0\n",
    "<strong>Explanation:</strong> In this case, no transaction is done, i.e. max profit = 0.</div>\n"
   ]
  },
  {
   "cell_type": "code",
   "execution_count": 12,
   "metadata": {},
   "outputs": [],
   "source": [
    "class Solution(object):\n",
    "    def maxProfit(self, prices):\n",
    "        \"\"\"\n",
    "        :type prices: List[int]\n",
    "        :rtype: int\n",
    "        \"\"\""
   ]
  },
  {
   "cell_type": "markdown",
   "metadata": {},
   "source": [
    "---\n",
    "## [125. Valid Palindrome (Easy)](https://leetcode.com/problems/valid-palindrome/description)\n",
    "<p>Given a string, determine if it is a palindrome, considering only alphanumeric characters and ignoring cases.</p>\n",
    "<p><strong>Note:</strong> For the purpose of this problem, we define empty string as valid palindrome.</p>\n",
    "<p><strong>Example 1:</strong></p>\n",
    "<div class=\"example\"><strong>Input:</strong> \"A man, a plan, a canal: Panama\"\n",
    "<strong>Output:</strong> true</div>\n",
    "<p><strong>Example 2:</strong></p>\n",
    "<div class=\"example\"><strong>Input:</strong> \"race a car\"\n",
    "<strong>Output:</strong> false</div>\n"
   ]
  },
  {
   "cell_type": "code",
   "execution_count": 13,
   "metadata": {},
   "outputs": [],
   "source": [
    "class Solution(object):\n",
    "    def isPalindrome(self, s):\n",
    "        \"\"\"\n",
    "        :type s: str\n",
    "        :rtype: bool\n",
    "        \"\"\""
   ]
  },
  {
   "cell_type": "markdown",
   "metadata": {},
   "source": [
    "---\n",
    "## [136. Single Number (Easy)](https://leetcode.com/problems/single-number/description)\n",
    "<p>Given a <strong>non-empty</strong> array of integers, every element appears <em>twice</em> except for one. Find that single one.</p>\n",
    "<p><strong>Note:</strong></p>\n",
    "<p>Your algorithm should have a linear runtime complexity. Could you implement it without using extra memory?</p>\n",
    "<p><strong>Example 1:</strong></p>\n",
    "<div class=\"example\"><strong>Input:</strong> [2,2,1]\n",
    "<strong>Output:</strong> 1</div>\n",
    "<p><strong>Example 2:</strong></p>\n",
    "<div class=\"example\"><strong>Input:</strong> [4,1,2,1,2]\n",
    "<strong>Output:</strong> 4</div>\n"
   ]
  },
  {
   "cell_type": "code",
   "execution_count": 14,
   "metadata": {},
   "outputs": [],
   "source": [
    "class Solution(object):\n",
    "    def singleNumber(self, nums):\n",
    "        \"\"\"\n",
    "        :type nums: List[int]\n",
    "        :rtype: int\n",
    "        \"\"\""
   ]
  },
  {
   "cell_type": "markdown",
   "metadata": {},
   "source": [
    "---\n",
    "## [141. Linked List Cycle (Easy)](https://leetcode.com/problems/linked-list-cycle/description)\n",
    "<p>\n",
    "Given a linked list, determine if it has a cycle in it.\n",
    "</p>\n",
    "<p>\n",
    "Follow up:<br/>\n",
    "Can you solve it without using extra space?\n",
    "</p>"
   ]
  },
  {
   "cell_type": "code",
   "execution_count": 15,
   "metadata": {},
   "outputs": [],
   "source": [
    "# Definition for singly-linked list.\n",
    "# class ListNode(object):\n",
    "#     def __init__(self, x):\n",
    "#         self.val = x\n",
    "#         self.next = None\n",
    "\n",
    "class Solution(object):\n",
    "    def hasCycle(self, head):\n",
    "        \"\"\"\n",
    "        :type head: ListNode\n",
    "        :rtype: bool\n",
    "        \"\"\""
   ]
  },
  {
   "cell_type": "markdown",
   "metadata": {},
   "source": [
    "---\n",
    "## [155. Min Stack (Easy)](https://leetcode.com/problems/min-stack/description)\n",
    "<p>\n",
    "Design a stack that supports push, pop, top, and retrieving the minimum element in constant time.\n",
    "</p><ul>\n",
    "<li>\n",
    "push(x) -- Push element x onto stack.\n",
    "</li>\n",
    "<li>\n",
    "pop() -- Removes the element on top of the stack.\n",
    "</li>\n",
    "<li>\n",
    "top() -- Get the top element.\n",
    "</li>\n",
    "<li>\n",
    "getMin() -- Retrieve the minimum element in the stack.\n",
    "</li>\n",
    "</ul>\n",
    "<p></p>\n",
    "<p><b>Example:</b><br/>\n",
    "</p><div class=\"example\">MinStack minStack = new MinStack();\n",
    "minStack.push(-2);\n",
    "minStack.push(0);\n",
    "minStack.push(-3);\n",
    "minStack.getMin();   --&gt; Returns -3.\n",
    "minStack.pop();\n",
    "minStack.top();      --&gt; Returns 0.\n",
    "minStack.getMin();   --&gt; Returns -2.</div>\n",
    "<p></p>"
   ]
  },
  {
   "cell_type": "code",
   "execution_count": 16,
   "metadata": {},
   "outputs": [],
   "source": [
    "class MinStack(object):\n",
    "\n",
    "    def __init__(self):\n",
    "        \"\"\"\n",
    "        initialize your data structure here.\n",
    "        \"\"\"\n",
    "        \n",
    "\n",
    "    def push(self, x):\n",
    "        \"\"\"\n",
    "        :type x: int\n",
    "        :rtype: void\n",
    "        \"\"\"\n",
    "        \n",
    "\n",
    "    def pop(self):\n",
    "        \"\"\"\n",
    "        :rtype: void\n",
    "        \"\"\"\n",
    "        \n",
    "\n",
    "    def top(self):\n",
    "        \"\"\"\n",
    "        :rtype: int\n",
    "        \"\"\"\n",
    "        \n",
    "\n",
    "    def getMin(self):\n",
    "        \"\"\"\n",
    "        :rtype: int\n",
    "        \"\"\"\n",
    "        \n",
    "\n",
    "\n",
    "# Your MinStack object will be instantiated and called as such:\n",
    "# obj = MinStack()\n",
    "# obj.push(x)\n",
    "# obj.pop()\n",
    "# param_3 = obj.top()\n",
    "# param_4 = obj.getMin()"
   ]
  },
  {
   "cell_type": "markdown",
   "metadata": {},
   "source": [
    "---\n",
    "## [160. Intersection of Two Linked Lists (Easy)](https://leetcode.com/problems/intersection-of-two-linked-lists/description)\n",
    "<p>Write a program to find the node at which the intersection of two singly linked lists begins.</p>\n",
    "<br/>\n",
    "<p>For example, the following two linked lists: </p>\n",
    "<div class=\"example\">A:          a1 → a2\n",
    "                   ↘\n",
    "                     c1 → c2 → c3\n",
    "                   ↗            \n",
    "B:     b1 → b2 → b3</div>\n",
    "<p>begin to intersect at node c1.</p>\n",
    "<br/>\n",
    "<p><b>Notes:</b>\n",
    "</p><ul>\n",
    "<li>If the two linked lists have no intersection at all, return <code>null</code>.</li>\n",
    "<li>The linked lists must retain their original structure after the function returns. </li>\n",
    "<li>You may assume there are no cycles anywhere in the entire linked structure.</li>\n",
    "<li>Your code should preferably run in O(n) time and use only O(1) memory.</li>\n",
    "</ul>\n",
    "<p></p>\n",
    "<p><b>Credits:</b><br/>Special thanks to <a href=\"https://oj.leetcode.com/discuss/user/stellari\">@stellari</a> for adding this problem and creating all test cases.</p>"
   ]
  },
  {
   "cell_type": "code",
   "execution_count": 17,
   "metadata": {},
   "outputs": [],
   "source": [
    "# Definition for singly-linked list.\n",
    "# class ListNode(object):\n",
    "#     def __init__(self, x):\n",
    "#         self.val = x\n",
    "#         self.next = None\n",
    "\n",
    "class Solution(object):\n",
    "    def getIntersectionNode(self, headA, headB):\n",
    "        \"\"\"\n",
    "        :type head1, head1: ListNode\n",
    "        :rtype: ListNode\n",
    "        \"\"\""
   ]
  },
  {
   "cell_type": "markdown",
   "metadata": {},
   "source": [
    "---\n",
    "## [167. Two Sum II - Input array is sorted (Easy)](https://leetcode.com/problems/two-sum-ii-input-array-is-sorted/description)\n",
    "<p>Given an array of integers that is already <strong><em>sorted in ascending order</em></strong>, find two numbers such that they add up to a specific target number.</p>\n",
    "<p>The function twoSum should return indices of the two numbers such that they add up to the target, where index1 must be less than index2.</p>\n",
    "<p><strong>Note:</strong></p>\n",
    "<ul>\n",
    "<li>Your returned answers (both index1 and index2) are not zero-based.</li>\n",
    "<li>You may assume that each input would have <em>exactly</em> one solution and you may not use the <em>same</em> element twice.</li>\n",
    "</ul>\n",
    "<p><strong>Example:</strong></p>\n",
    "<div class=\"example\"><strong>Input:</strong> numbers = [2,7,11,15], target = 9\n",
    "<strong>Output:</strong> [1,2]\n",
    "<strong>Explanation:</strong> The sum of 2 and 7 is 9. Therefore index1 = 1, index2 = 2.</div>\n"
   ]
  },
  {
   "cell_type": "code",
   "execution_count": 18,
   "metadata": {},
   "outputs": [],
   "source": [
    "class Solution(object):\n",
    "    def twoSum(self, numbers, target):\n",
    "        \"\"\"\n",
    "        :type numbers: List[int]\n",
    "        :type target: int\n",
    "        :rtype: List[int]\n",
    "        \"\"\""
   ]
  },
  {
   "cell_type": "markdown",
   "metadata": {},
   "source": [
    "---\n",
    "## [168. Excel Sheet Column Title (Easy)](https://leetcode.com/problems/excel-sheet-column-title/description)\n",
    "<p>Given a positive integer, return its corresponding column title as appear in an Excel sheet.</p>\n",
    "<p>For example:</p>\n",
    "<div class=\"example\">    1 -&gt; A\n",
    "    2 -&gt; B\n",
    "    3 -&gt; C\n",
    "    ...\n",
    "    26 -&gt; Z\n",
    "    27 -&gt; AA\n",
    "    28 -&gt; AB \n",
    "    ...</div>\n",
    "<p><strong>Example 1:</strong></p>\n",
    "<div class=\"example\"><strong>Input:</strong> 1\n",
    "<strong>Output:</strong> \"A\"</div>\n",
    "<p><strong>Example 2:</strong></p>\n",
    "<div class=\"example\"><strong>Input:</strong> 28\n",
    "<strong>Output:</strong> \"AB\"</div>\n",
    "<p><strong>Example 3:</strong></p>\n",
    "<div class=\"example\"><strong>Input:</strong> 701\n",
    "<strong>Output:</strong> \"ZY\"</div>"
   ]
  },
  {
   "cell_type": "code",
   "execution_count": 19,
   "metadata": {},
   "outputs": [],
   "source": [
    "class Solution(object):\n",
    "    def convertToTitle(self, n):\n",
    "        \"\"\"\n",
    "        :type n: int\n",
    "        :rtype: str\n",
    "        \"\"\""
   ]
  },
  {
   "cell_type": "markdown",
   "metadata": {},
   "source": [
    "---\n",
    "## [169. Majority Element (Easy)](https://leetcode.com/problems/majority-element/description)\n",
    "<p>Given an array of size <i>n</i>, find the majority element. The majority element is the element that appears <b>more than</b> <code>⌊ n/2 ⌋</code> times.</p>\n",
    "<p>You may assume that the array is non-empty and the majority element always exist in the array.</p>\n",
    "<p><strong>Example 1:</strong></p>\n",
    "<div class=\"example\"><strong>Input:</strong> [3,2,3]\n",
    "<strong>Output:</strong> 3</div>\n",
    "<p><strong>Example 2:</strong></p>\n",
    "<div class=\"example\"><strong>Input:</strong> [2,2,1,1,1,2,2]\n",
    "<strong>Output:</strong> 2</div>\n"
   ]
  },
  {
   "cell_type": "code",
   "execution_count": 20,
   "metadata": {},
   "outputs": [],
   "source": [
    "class Solution(object):\n",
    "    def majorityElement(self, nums):\n",
    "        \"\"\"\n",
    "        :type nums: List[int]\n",
    "        :rtype: int\n",
    "        \"\"\""
   ]
  },
  {
   "cell_type": "markdown",
   "metadata": {},
   "source": [
    "---\n",
    "## [171. Excel Sheet Column Number (Easy)](https://leetcode.com/problems/excel-sheet-column-number/description)\n",
    "<p>Given a column title as appear in an Excel sheet, return its corresponding column number.</p>\n",
    "<p>For example:</p>\n",
    "<div class=\"example\">    A -&gt; 1\n",
    "    B -&gt; 2\n",
    "    C -&gt; 3\n",
    "    ...\n",
    "    Z -&gt; 26\n",
    "    AA -&gt; 27\n",
    "    AB -&gt; 28 \n",
    "    ...</div>\n",
    "<p><strong>Example 1:</strong></p>\n",
    "<div class=\"example\"><strong>Input:</strong> \"A\"\n",
    "<strong>Output:</strong> 1</div>\n",
    "<p><strong>Example 2:</strong></p>\n",
    "<div class=\"example\"><strong>Input: </strong>\"AB\"\n",
    "<strong>Output:</strong> 28</div>\n",
    "<p><strong>Example 3:</strong></p>\n",
    "<div class=\"example\"><strong>Input: </strong>\"ZY\"\n",
    "<strong>Output:</strong> 701</div>"
   ]
  },
  {
   "cell_type": "code",
   "execution_count": 21,
   "metadata": {},
   "outputs": [],
   "source": [
    "class Solution(object):\n",
    "    def titleToNumber(self, s):\n",
    "        \"\"\"\n",
    "        :type s: str\n",
    "        :rtype: int\n",
    "        \"\"\""
   ]
  },
  {
   "cell_type": "markdown",
   "metadata": {},
   "source": [
    "---\n",
    "## [172. Factorial Trailing Zeroes (Easy)](https://leetcode.com/problems/factorial-trailing-zeroes/description)\n",
    "<p>Given an integer <i>n</i>, return the number of trailing zeroes in <i>n</i>!.</p>\n",
    "<p><strong>Example 1:</strong></p>\n",
    "<div class=\"example\"><strong>Input:</strong> 3\n",
    "<strong>Output:</strong> 0\n",
    "<strong>Explanation:</strong> 3! = 6, no trailing zero.</div>\n",
    "<p><strong>Example 2:</strong></p>\n",
    "<div class=\"example\"><strong>Input:</strong> 5\n",
    "<strong>Output:</strong> 1\n",
    "<strong>Explanation:</strong> 5! = 120, one trailing zero.</div>\n",
    "<p><b>Note: </b>Your solution should be in logarithmic time complexity.</p>\n"
   ]
  },
  {
   "cell_type": "code",
   "execution_count": 22,
   "metadata": {},
   "outputs": [],
   "source": [
    "class Solution(object):\n",
    "    def trailingZeroes(self, n):\n",
    "        \"\"\"\n",
    "        :type n: int\n",
    "        :rtype: int\n",
    "        \"\"\""
   ]
  },
  {
   "cell_type": "markdown",
   "metadata": {},
   "source": [
    "---\n",
    "## [189. Rotate Array (Easy)](https://leetcode.com/problems/rotate-array/description)\n",
    "<p>Given an array, rotate the array to the right by <em>k</em> steps, where <em>k</em> is non-negative.</p>\n",
    "<p><strong>Example 1:</strong></p>\n",
    "<div class=\"example\"><strong>Input:</strong> <code>[1,2,3,4,5,6,7]</code> and <em>k</em> = 3\n",
    "<strong>Output:</strong> <code>[5,6,7,1,2,3,4]</code>\n",
    "<strong>Explanation:</strong>\n",
    "rotate 1 steps to the right: <code>[7,1,2,3,4,5,6]</code>\n",
    "rotate 2 steps to the right: <code>[6,7,1,2,3,4,5]\n",
    "</code>rotate 3 steps to the right: <code>[5,6,7,1,2,3,4]</code></div>\n",
    "<p><strong>Example 2:</strong></p>\n",
    "<div class=\"example\"><strong>Input:</strong> <code>[-1,-100,3,99]</code> and <em>k</em> = 2\n",
    "<strong>Output:</strong> [3,99,-1,-100]\n",
    "<strong>Explanation:</strong> \n",
    "rotate 1 steps to the right: [99,-1,-100,3]\n",
    "rotate 2 steps to the right: [3,99,-1,-100]</div>\n",
    "<p><strong>Note:</strong></p>\n",
    "<ul>\n",
    "<li>Try to come up as many solutions as you can, there are at least 3 different ways to solve this problem.</li>\n",
    "<li>Could you do it in-place with O(1) extra space?</li>\n",
    "</ul>"
   ]
  },
  {
   "cell_type": "code",
   "execution_count": 23,
   "metadata": {},
   "outputs": [],
   "source": [
    "class Solution(object):\n",
    "    def rotate(self, nums, k):\n",
    "        \"\"\"\n",
    "        :type nums: List[int]\n",
    "        :type k: int\n",
    "        :rtype: void Do not return anything, modify nums in-place instead.\n",
    "        \"\"\""
   ]
  },
  {
   "cell_type": "markdown",
   "metadata": {},
   "source": [
    "---\n",
    "## [190. Reverse Bits (Easy)](https://leetcode.com/problems/reverse-bits/description)\n",
    "<p>Reverse bits of a given 32 bits unsigned integer.</p>\n",
    "<p><strong>Example:</strong></p>\n",
    "<div class=\"example\"><strong>Input:</strong> 43261596\n",
    "<strong>Output:</strong> 964176192\n",
    "<strong>Explanation: </strong>43261596 represented in binary as <b>00000010100101000001111010011100</b>, \n",
    "             return 964176192 represented in binary as <b>00111001011110000010100101000000</b>.</div>\n",
    "<p><b>Follow up</b>:<br/>\n",
    "If this function is called many times, how would you optimize it?</p>"
   ]
  },
  {
   "cell_type": "code",
   "execution_count": 24,
   "metadata": {},
   "outputs": [
    {
     "ename": "SyntaxError",
     "evalue": "unexpected EOF while parsing (<ipython-input-24-bd12aec66757>, line 4)",
     "output_type": "error",
     "traceback": [
      "\u001b[0;36m  File \u001b[0;32m\"<ipython-input-24-bd12aec66757>\"\u001b[0;36m, line \u001b[0;32m4\u001b[0m\n\u001b[0;31m    def reverseBits(self, n):\u001b[0m\n\u001b[0m                             ^\u001b[0m\n\u001b[0;31mSyntaxError\u001b[0m\u001b[0;31m:\u001b[0m unexpected EOF while parsing\n"
     ]
    }
   ],
   "source": [
    "class Solution:\n",
    "    # @param n, an integer\n",
    "    # @return an integer\n",
    "    def reverseBits(self, n):"
   ]
  },
  {
   "cell_type": "markdown",
   "metadata": {},
   "source": [
    "---\n",
    "## [191. Number of 1 Bits (Easy)](https://leetcode.com/problems/number-of-1-bits/description)\n",
    "<p>Write a function that takes an unsigned integer and returns the number of '1' bits it has (also known as the <a href=\"http://en.wikipedia.org/wiki/Hamming_weight\">Hamming weight</a>).</p>\n",
    "<p><strong>Example 1:</strong></p>\n",
    "<div class=\"example\"><strong>Input:</strong> 11\n",
    "<strong>Output:</strong> 3\n",
    "<strong>Explanation: </strong>Integer 11 has binary representation <code><strong>00000000000000000000000000001011 </strong></code></div>\n",
    "<p><strong>Example 2:</strong></p>\n",
    "<div class=\"example\"><strong>Input:</strong> 128\n",
    "<strong>Output:</strong> 1\n",
    "<strong>Explanation: </strong>Integer 128 has binary representation <strong>00000000000000000000000010000000</strong></div>\n"
   ]
  },
  {
   "cell_type": "code",
   "execution_count": null,
   "metadata": {},
   "outputs": [],
   "source": [
    "class Solution(object):\n",
    "    def hammingWeight(self, n):\n",
    "        \"\"\"\n",
    "        :type n: int\n",
    "        :rtype: int\n",
    "        \"\"\""
   ]
  }
 ],
 "metadata": {
  "kernelspec": {
   "display_name": "Python [conda env:machine-learning]",
   "language": "python",
   "name": "conda-env-machine-learning-py"
  },
  "language_info": {
   "codemirror_mode": {
    "name": "ipython",
    "version": 3
   },
   "file_extension": ".py",
   "mimetype": "text/x-python",
   "name": "python",
   "nbconvert_exporter": "python",
   "pygments_lexer": "ipython3",
   "version": "3.6.6"
  }
 },
 "nbformat": 4,
 "nbformat_minor": 2
}
