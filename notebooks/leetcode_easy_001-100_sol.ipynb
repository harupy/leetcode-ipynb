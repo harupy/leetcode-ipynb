{
 "cells": [
  {
   "cell_type": "markdown",
   "metadata": {},
   "source": [
    "# LeetCode"
   ]
  },
  {
   "cell_type": "code",
   "execution_count": 3,
   "metadata": {},
   "outputs": [
    {
     "data": {
      "text/html": [
       "\n",
       "<style>\n",
       "    div.example {\n",
       "        display: block;\n",
       "        padding: 9.5px;\n",
       "        margin: 0 0 10px;\n",
       "        white-space: pre;\n",
       "        background-color: #ffffe0;\n",
       "        border: 1px solid #ccc;\n",
       "        border-radius: 4px;\n",
       "    }\n",
       "\n",
       "    code {\n",
       "        color: #c7254e !important;\n",
       "        background-color: #f9f2f4 !important;\n",
       "    }\n",
       "\n",
       "    div.example code {\n",
       "        background-color: #ffffe0 !important;\n",
       "    }\n",
       "\n",
       "    hr {\n",
       "        border-top: 2px solid #000;\n",
       "    }\n",
       "</style>\n",
       "\n"
      ],
      "text/plain": [
       "<IPython.core.display.HTML object>"
      ]
     },
     "execution_count": 3,
     "metadata": {},
     "output_type": "execute_result"
    }
   ],
   "source": [
    "from IPython.display import HTML\n",
    "from __future__ import print_function\n",
    "xrange = range\n",
    "\n",
    "css = \"\"\"\n",
    "<style>\n",
    "    div.example {\n",
    "        display: block;\n",
    "        padding: 9.5px;\n",
    "        margin: 0 0 10px;\n",
    "        white-space: pre;\n",
    "        background-color: #ffffe0;\n",
    "        border: 1px solid #ccc;\n",
    "        border-radius: 4px;\n",
    "    }\n",
    "\n",
    "    code {\n",
    "        color: #c7254e !important;\n",
    "        background-color: #f9f2f4 !important;\n",
    "    }\n",
    "\n",
    "    div.example code {\n",
    "        background-color: #ffffe0 !important;\n",
    "    }\n",
    "\n",
    "    hr {\n",
    "        border-top: 2px solid #000;\n",
    "    }\n",
    "</style>\n",
    "\"\"\"\n",
    "\n",
    "HTML(css)"
   ]
  }
 ],
 "metadata": {
  "kernelspec": {
   "display_name": "Python [conda env:machine-learning]",
   "language": "python",
   "name": "conda-env-machine-learning-py"
  },
  "language_info": {
   "codemirror_mode": {
    "name": "ipython",
    "version": 3
   },
   "file_extension": ".py",
   "mimetype": "text/x-python",
   "name": "python",
   "nbconvert_exporter": "python",
   "pygments_lexer": "ipython3",
   "version": "3.6.6"
  }
 },
 "nbformat": 4,
 "nbformat_minor": 2
}
