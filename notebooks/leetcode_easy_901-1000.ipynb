{
 "cells": [
  {
   "cell_type": "markdown",
   "metadata": {},
   "source": [
    "# LeetCode"
   ]
  },
  {
   "cell_type": "code",
   "execution_count": 3,
   "metadata": {},
   "outputs": [
    {
     "name": "stdout",
     "output_type": "stream",
     "text": [
      "Hello\n"
     ]
    },
    {
     "data": {
      "text/html": [
       "\n",
       "<style>\n",
       "    div.example {\n",
       "        display: block;\n",
       "        padding: 9.5px;\n",
       "        margin: 0 0 10px;\n",
       "        white-space: pre;\n",
       "        background-color: #ffffe0;\n",
       "        border: 1px solid #ccc;\n",
       "        border-radius: 4px;\n",
       "    }\n",
       "\n",
       "    code {\n",
       "        color: #c7254e !important;\n",
       "        background-color: #f9f2f4 !important;\n",
       "    }\n",
       "\n",
       "    div.example code {\n",
       "        background-color: #ffffe0 !important;\n",
       "    }\n",
       "\n",
       "    hr {\n",
       "        border-top: 2px solid #000;\n",
       "    }\n",
       "</style>\n",
       "\n",
       "\n",
       "        <script>\n",
       "            function code_toggle_1663955314463623917() {\n",
       "                $('div.cell.code_cell.rendered.selected').find('div.input').toggle();\n",
       "                $('div.cell.code_cell.rendered.selected').find('div.output_subarea').first().toggle();\n",
       "            }\n",
       "            \n",
       "        </script>\n",
       "        <form action=\"javascript:code_toggle_1663955314463623917()\"><input type=\"submit\" value=\"Toggle JS & CSS\"></form>\n",
       "    "
      ],
      "text/plain": [
       "<IPython.core.display.HTML object>"
      ]
     },
     "execution_count": 3,
     "metadata": {},
     "output_type": "execute_result"
    }
   ],
   "source": [
    "from IPython.display import HTML\n",
    "import random\n",
    "from __future__ import print_function\n",
    "xrange = range\n",
    "\n",
    "css = \"\"\"\n",
    "<style>\n",
    "    div.example {\n",
    "        display: block;\n",
    "        padding: 9.5px;\n",
    "        margin: 0 0 10px;\n",
    "        white-space: pre;\n",
    "        background-color: #ffffe0;\n",
    "        border: 1px solid #ccc;\n",
    "        border-radius: 4px;\n",
    "    }\n",
    "\n",
    "    code {\n",
    "        color: #c7254e !important;\n",
    "        background-color: #f9f2f4 !important;\n",
    "    }\n",
    "\n",
    "    div.example code {\n",
    "        background-color: #ffffe0 !important;\n",
    "    }\n",
    "\n",
    "    hr {\n",
    "        border-top: 2px solid #000;\n",
    "    }\n",
    "</style>\n",
    "\n",
    "\"\"\"\n",
    "\n",
    "def hide_toggle(display_text, for_next=False):\n",
    "    this_cell = \"\"\"$('div.cell.code_cell.rendered.selected')\"\"\"\n",
    "    next_cell = this_cell + '.next()'\n",
    "    toggle_text = 'Toggle show/hide'  # text shown on toggle link\n",
    "    target_cell = this_cell  # target cell to control with toggle\n",
    "    js_hide_current = ''  # bit of JS to permanently hide code in current cell (only when toggling next cell)\n",
    "    if for_next:\n",
    "        target_cell = next_cell\n",
    "        toggle_text += ' next cell'\n",
    "        js_hide_current = this_cell + '.find(\"div.input\").hide();'\n",
    "    js_f_name = f'code_toggle_{random.randint(1,2**64)}'\n",
    "    html = css + \"\"\"\n",
    "        <script>\n",
    "            function {f_name}() {{\n",
    "                {cell_selector}.find('div.input').toggle();\n",
    "                var outputSubareas = {cell_selector}.find('div.output_subarea');\n",
    "                if (outputSubareas.length > 1) {{\n",
    "                    outputSubareas.first().toggle()\n",
    "                }}\n",
    "            }}\n",
    "            {js_hide_current}\n",
    "        </script>\n",
    "        <form action=\"javascript:{f_name}()\"><input type=\"submit\" value=\"{display_text}\"></form>\n",
    "    \"\"\".format(\n",
    "        f_name=js_f_name,\n",
    "        cell_selector=target_cell,\n",
    "        js_hide_current=js_hide_current, \n",
    "        toggle_text=toggle_text,\n",
    "        display_text=display_text\n",
    "    )\n",
    "    return HTML(html)\n",
    "\n",
    "hide_toggle('Toggle JS & CSS')"
   ]
  },
  {
   "cell_type": "markdown",
   "metadata": {},
   "source": [
    "---\n",
    "## [902. Smallest Range I (Easy)](https://leetcode.com/problems/smallest-range-i/description)\n",
    "<p>Given an array <code>A</code> of integers, for each integer <code>A[i]</code> we may choose any <code>x</code> with <code>-K &lt;= x &lt;= K</code>, and add <code>x</code> to <code>A[i]</code>.</p>\n",
    "<p>After this process, we have some array <code>B</code>.</p>\n",
    "<p>Return the smallest possible difference between the maximum value of <code>B</code> and the minimum value of <code>B</code>.</p>\n",
    "<p> </p>\n",
    "<ol>\n",
    "</ol>\n",
    "<div>\n",
    "<p><strong>Example 1:</strong></p>\n",
    "<div class=\"example\"><strong>Input: </strong>A = <span id=\"example-input-1-1\">[1]</span>, K = <span id=\"example-input-1-2\">0</span>\n",
    "<strong>Output: </strong><span id=\"example-output-1\">0\n",
    "<strong>Explanation</strong>: B = [1]</span></div>\n",
    "<div>\n",
    "<p><strong>Example 2:</strong></p>\n",
    "<div class=\"example\"><strong>Input: </strong>A = <span id=\"example-input-2-1\">[0,10]</span>, K = <span id=\"example-input-2-2\">2</span>\n",
    "<strong>Output: </strong><span id=\"example-output-2\">6\n",
    "</span><span id=\"example-output-1\"><strong>Explanation</strong>: B = [2,8]</span></div>\n",
    "<div>\n",
    "<p><strong>Example 3:</strong></p>\n",
    "<div class=\"example\"><strong>Input: </strong>A = <span id=\"example-input-3-1\">[1,3,6]</span>, K = <span id=\"example-input-3-2\">3</span>\n",
    "<strong>Output: </strong><span id=\"example-output-3\">0\n",
    "</span><span id=\"example-output-1\"><strong>Explanation</strong>: B = [3,3,3] or B = [4,4,4]</span></div>\n",
    "<p> </p>\n",
    "<p><strong>Note:</strong></p>\n",
    "<ol>\n",
    "<li><code>1 &lt;= A.length &lt;= 10000</code></li>\n",
    "<li><code>0 &lt;= A[i] &lt;= 10000</code></li>\n",
    "<li><code>0 &lt;= K &lt;= 10000</code></li>\n",
    "</ol></div></div></div>\n"
   ]
  },
  {
   "cell_type": "code",
   "execution_count": null,
   "metadata": {},
   "outputs": [],
   "source": [
    "# Time:  O(n)\n",
    "# Space: O(1)\n",
    "\n",
    "\n",
    "class Solution(object):\n",
    "    def smallestRangeI(self, A, K):\n",
    "        \"\"\"\n",
    "        :type A: List[int]\n",
    "        :type K: int\n",
    "        :rtype: int\n",
    "        \"\"\"\n",
    "        return max(0, max(A) - min(A) - 2*K)\n",
    "\n",
    "\n",
    "hide_toggle(\"Toggle the solution\")"
   ]
  },
  {
   "cell_type": "code",
   "execution_count": null,
   "metadata": {},
   "outputs": [],
   "source": [
    "class Solution(object):\n",
    "    def smallestRangeI(self, A, K):\n",
    "        \"\"\"\n",
    "        :type A: List[int]\n",
    "        :type K: int\n",
    "        :rtype: int\n",
    "        \"\"\""
   ]
  },
  {
   "cell_type": "markdown",
   "metadata": {},
   "source": [
    "---\n",
    "## [907. X of a Kind in a Deck of Cards (Easy)](https://leetcode.com/problems/x-of-a-kind-in-a-deck-of-cards/description)\n",
    "<p>In a deck of cards, each card has an integer written on it.</p>\n",
    "<p>Return <code>true</code> if and only if you can choose <code>X &gt;= 2</code> such that it is possible to split the entire deck into 1 or more groups of cards, where:</p>\n",
    "<ul>\n",
    "<li>Each group has exactly <code>X</code> cards.</li>\n",
    "<li>All the cards in each group have the same integer.</li>\n",
    "</ul>\n",
    "<p> </p>\n",
    "<p><strong>Example 1:</strong></p>\n",
    "<div class=\"example\"><strong>Input: </strong><span id=\"example-input-1-1\">[1,2,3,4,4,3,2,1]</span>\n",
    "<strong>Output: </strong><span id=\"example-output-1\">true\n",
    "<strong>Explanation</strong>: Possible partition [1,1],[2,2],[3,3],[4,4]</span></div>\n",
    "<div>\n",
    "<p><strong>Example 2:</strong></p>\n",
    "<div class=\"example\"><strong>Input: </strong><span id=\"example-input-2-1\">[1,1,1,2,2,2,3,3]</span>\n",
    "<strong>Output: </strong><span id=\"example-output-2\">false\n",
    "</span><span id=\"example-output-1\"><strong>Explanation</strong>: No possible partition.</span></div>\n",
    "<div>\n",
    "<p><strong>Example 3:</strong></p>\n",
    "<div class=\"example\"><strong>Input: </strong><span id=\"example-input-3-1\">[1]</span>\n",
    "<strong>Output: </strong><span id=\"example-output-3\">false\n",
    "</span><span id=\"example-output-1\"><strong>Explanation</strong>: No possible partition.</span></div>\n",
    "<div>\n",
    "<p><strong>Example 4:</strong></p>\n",
    "<div class=\"example\"><strong>Input: </strong><span id=\"example-input-4-1\">[1,1]</span>\n",
    "<strong>Output: </strong><span id=\"example-output-4\">true\n",
    "</span><span id=\"example-output-1\"><strong>Explanation</strong>: Possible partition [1,1]</span></div>\n",
    "<div>\n",
    "<p><strong>Example 5:</strong></p>\n",
    "<div class=\"example\"><strong>Input: </strong><span id=\"example-input-5-1\">[1,1,2,2,2,2]</span>\n",
    "<strong>Output: </strong><span id=\"example-output-5\">true\n",
    "</span><span id=\"example-output-1\"><strong>Explanation</strong>: Possible partition [1,1],[2,2],[2,2]</span></div></div></div></div></div>\n",
    "<p><br/>\n",
    "<strong>Note:</strong></p>\n",
    "<ol>\n",
    "<li><code>1 &lt;= deck.length &lt;= 10000</code></li>\n",
    "<li><code>0 &lt;= deck[i] &lt; 10000</code></li>\n",
    "</ol>\n",
    "<div>\n",
    "<div>\n",
    "<div>\n",
    "<div>\n",
    "<div> </div></div></div></div></div>"
   ]
  },
  {
   "cell_type": "code",
   "execution_count": null,
   "metadata": {},
   "outputs": [],
   "source": [
    "# Time:  O(n * (logn)^2)\n",
    "# Space: O(n)\n",
    "\n",
    "\n",
    "import collections\n",
    "\n",
    "\n",
    "class Solution(object):\n",
    "    def hasGroupsSizeX(self, deck):\n",
    "        \"\"\"\n",
    "        :type deck: List[int]\n",
    "        :rtype: bool\n",
    "        \"\"\"\n",
    "        def gcd(a, b):  # Time: O((logn)^2)\n",
    "            while b:\n",
    "                a, b = b, a % b\n",
    "            return a\n",
    "\n",
    "        vals = collections.Counter(deck).values()\n",
    "        return reduce(gcd, vals) >= 2\n",
    "\n",
    "\n",
    "hide_toggle(\"Toggle the solution\")"
   ]
  },
  {
   "cell_type": "code",
   "execution_count": null,
   "metadata": {},
   "outputs": [],
   "source": [
    "class Solution(object):\n",
    "    def hasGroupsSizeX(self, deck):\n",
    "        \"\"\"\n",
    "        :type deck: List[int]\n",
    "        :rtype: bool\n",
    "        \"\"\""
   ]
  },
  {
   "cell_type": "markdown",
   "metadata": {},
   "source": [
    "---\n",
    "## [910. Reverse Only Letters    New (Easy)](https://leetcode.com/problems/reverse-only-letters/description)\n",
    "<p>Given a string <code>S</code>, return the \"reversed\" string where all characters that are not a letter stay in the same place, and all letters reverse their positions.</p>\n",
    "<p> </p>\n",
    "<div>\n",
    "<div>\n",
    "<div>\n",
    "<ol>\n",
    "</ol></div></div></div>\n",
    "<div>\n",
    "<p><strong>Example 1:</strong></p>\n",
    "<div class=\"example\"><strong>Input: </strong><span id=\"example-input-1-1\">\"ab-cd\"</span>\n",
    "<strong>Output: </strong><span id=\"example-output-1\">\"dc-ba\"</span></div>\n",
    "<div>\n",
    "<p><strong>Example 2:</strong></p>\n",
    "<div class=\"example\"><strong>Input: </strong><span id=\"example-input-2-1\">\"a-bC-dEf-ghIj\"</span>\n",
    "<strong>Output: </strong><span id=\"example-output-2\">\"j-Ih-gfE-dCba\"</span></div>\n",
    "<div>\n",
    "<p><strong>Example 3:</strong></p>\n",
    "<div class=\"example\"><strong>Input: </strong><span id=\"example-input-3-1\">\"Test1ng-Leet=code-Q!\"</span>\n",
    "<strong>Output: </strong><span id=\"example-output-3\">\"Qedo1ct-eeLg=ntse-T!\"</span></div>\n",
    "<p> </p>\n",
    "<div>\n",
    "<p><strong><span>Note:</span></strong></p>\n",
    "<ol>\n",
    "<li><code>S.length &lt;= 100</code></li>\n",
    "<li><code>33 &lt;= S[i].ASCIIcode &lt;= 122</code> </li>\n",
    "<li><code>S</code> doesn't contain <code>\\</code> or <code>\"</code></li>\n",
    "</ol></div></div></div></div>\n"
   ]
  },
  {
   "cell_type": "code",
   "execution_count": null,
   "metadata": {},
   "outputs": [],
   "source": [
    "\n",
    "\n",
    "hide_toggle(\"Toggle the solution\")"
   ]
  },
  {
   "cell_type": "code",
   "execution_count": null,
   "metadata": {},
   "outputs": [],
   "source": [
    "class Solution(object):\n",
    "    def reverseOnlyLetters(self, S):\n",
    "        \"\"\"\n",
    "        :type S: str\n",
    "        :rtype: str\n",
    "        \"\"\""
   ]
  },
  {
   "cell_type": "code",
   "execution_count": 4,
   "metadata": {},
   "outputs": [
    {
     "data": {
      "text/html": [
       "\n",
       "<script>\n",
       "    document.querySelectorAll('input').forEach(function(button) {\n",
       "        button.click();\n",
       "    });\n",
       "</script>\n"
      ],
      "text/plain": [
       "<IPython.core.display.HTML object>"
      ]
     },
     "execution_count": 4,
     "metadata": {},
     "output_type": "execute_result"
    }
   ],
   "source": [
    "HTML('''\n",
    "<script>\n",
    "    document.querySelectorAll('input').forEach(function(button) {\n",
    "        button.click();\n",
    "    });\n",
    "</script>\n",
    "''')"
   ]
  }
 ],
 "metadata": {
  "kernelspec": {
   "display_name": "Python [conda env:machine-learning]",
   "language": "python",
   "name": "conda-env-machine-learning-py"
  },
  "language_info": {
   "codemirror_mode": {
    "name": "ipython",
    "version": 3
   },
   "file_extension": ".py",
   "mimetype": "text/x-python",
   "name": "python",
   "nbconvert_exporter": "python",
   "pygments_lexer": "ipython3",
   "version": "3.6.6"
  }
 },
 "nbformat": 4,
 "nbformat_minor": 2
}
